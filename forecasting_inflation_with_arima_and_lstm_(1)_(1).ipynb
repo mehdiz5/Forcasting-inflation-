{
  "cells": [
    {
      "cell_type": "markdown",
      "metadata": {
        "id": "view-in-github",
        "colab_type": "text"
      },
      "source": [
        "<a href=\"https://colab.research.google.com/github/mehdiz5/Forcasting-inflation-/blob/main/forecasting_inflation_with_arima_and_lstm_(1)_(1).ipynb\" target=\"_parent\"><img src=\"https://colab.research.google.com/assets/colab-badge.svg\" alt=\"Open In Colab\"/></a>"
      ]
    },
    {
      "cell_type": "markdown",
      "metadata": {
        "id": "pwNlqTFEKEze"
      },
      "source": [
        "##  Import Libraries et Data Loading\n",
        "<a id=\"libraries\"></a>"
      ]
    },
    {
      "cell_type": "code",
      "execution_count": null,
      "metadata": {
        "execution": {
          "iopub.execute_input": "2022-01-09T06:00:53.297836Z",
          "iopub.status.busy": "2022-01-09T06:00:53.297362Z",
          "iopub.status.idle": "2022-01-09T06:00:53.399352Z",
          "shell.execute_reply": "2022-01-09T06:00:53.398244Z",
          "shell.execute_reply.started": "2022-01-09T06:00:53.297801Z"
        },
        "id": "Z8GM76H7KEz1",
        "outputId": "46aa7eb8-8949-4624-b209-e471b880d7f9"
      },
      "outputs": [
        {
          "data": {
            "text/html": [
              "        <script type=\"text/javascript\">\n",
              "        window.PlotlyConfig = {MathJaxConfig: 'local'};\n",
              "        if (window.MathJax) {MathJax.Hub.Config({SVG: {font: \"STIX-Web\"}});}\n",
              "        if (typeof require !== 'undefined') {\n",
              "        require.undef(\"plotly\");\n",
              "        requirejs.config({\n",
              "            paths: {\n",
              "                'plotly': ['https://cdn.plot.ly/plotly-2.6.3.min']\n",
              "            }\n",
              "        });\n",
              "        require(['plotly'], function(Plotly) {\n",
              "            window._Plotly = Plotly;\n",
              "        });\n",
              "        }\n",
              "        </script>\n",
              "        "
            ]
          },
          "metadata": {},
          "output_type": "display_data"
        }
      ],
      "source": [
        "from IPython.core.interactiveshell import InteractiveShell\n",
        "InteractiveShell.ast_node_interactivity = \"all\"\n",
        "import warnings\n",
        "warnings.filterwarnings(\"ignore\")\n",
        "\n",
        "import pandas as pd\n",
        "import datetime\n",
        "import numpy as np\n",
        "from matplotlib import pyplot as plt\n",
        "import plotly.express as px\n",
        "from plotly.offline import init_notebook_mode, iplot\n",
        "init_notebook_mode(connected=True)\n",
        "from statsmodels.tsa.seasonal import seasonal_decompose\n",
        "from statsmodels.tsa.stattools import adfuller\n",
        "from statsmodels.tsa.stattools import grangercausalitytests\n",
        "from statsmodels.graphics.tsaplots import plot_acf, plot_pacf\n",
        "from statsmodels.tsa.arima.model import ARIMA\n",
        "from sklearn.metrics import mean_squared_error\n",
        "from sklearn.preprocessing import MinMaxScaler\n",
        "from math import sqrt\n",
        "\n",
        "import tensorflow as tf\n",
        "from tensorflow.keras.models import Sequential\n",
        "from keras.layers import Dense\n",
        "from keras.layers import LSTM\n",
        "from keras.layers import Dropout\n",
        "from keras.callbacks import EarlyStopping\n",
        "\n",
        "np.random.seed(234)\n",
        "tf.random.set_seed(234)"
      ]
    },
    {
      "cell_type": "code",
      "execution_count": null,
      "metadata": {
        "execution": {
          "iopub.execute_input": "2022-01-09T06:00:53.405579Z",
          "iopub.status.busy": "2022-01-09T06:00:53.405287Z",
          "iopub.status.idle": "2022-01-09T06:00:53.411893Z",
          "shell.execute_reply": "2022-01-09T06:00:53.411106Z",
          "shell.execute_reply.started": "2022-01-09T06:00:53.405547Z"
        },
        "id": "gckYVquKKE0F",
        "outputId": "7a392e75-8bc2-4730-bb44-f2cea9e89b48"
      },
      "outputs": [
        {
          "name": "stdout",
          "output_type": "stream",
          "text": [
            "2.6.2\n"
          ]
        }
      ],
      "source": [
        "print(tf.__version__)"
      ]
    },
    {
      "cell_type": "code",
      "execution_count": null,
      "metadata": {
        "execution": {
          "iopub.execute_input": "2022-01-09T06:00:53.413543Z",
          "iopub.status.busy": "2022-01-09T06:00:53.413265Z",
          "iopub.status.idle": "2022-01-09T06:00:53.434914Z",
          "shell.execute_reply": "2022-01-09T06:00:53.434333Z",
          "shell.execute_reply.started": "2022-01-09T06:00:53.413512Z"
        },
        "id": "lMzmefbRKE0I",
        "outputId": "27ba7cb3-7256-49bc-b3cf-14108d74aad2"
      },
      "outputs": [
        {
          "data": {
            "text/plain": [
              "(490, 12)"
            ]
          },
          "execution_count": 318,
          "metadata": {},
          "output_type": "execute_result"
        }
      ],
      "source": [
        "monthly_raw = pd.read_csv('../input/usa-key-macroeconomic-indicators/macro_monthly.csv',parse_dates=True)\n",
        "monthly_raw.shape"
      ]
    },
    {
      "cell_type": "markdown",
      "metadata": {
        "id": "oxTO4fYTKE0K"
      },
      "source": [
        "Prenons à partir de 1994, car il y a quelques NaNs pour certains indicateurs.\n",
        "Nous pouvons le faire en éliminant simplement les NaNs."
      ]
    },
    {
      "cell_type": "code",
      "execution_count": null,
      "metadata": {
        "execution": {
          "iopub.execute_input": "2022-01-09T06:00:53.436930Z",
          "iopub.status.busy": "2022-01-09T06:00:53.436327Z",
          "iopub.status.idle": "2022-01-09T06:00:53.458158Z",
          "shell.execute_reply": "2022-01-09T06:00:53.457483Z",
          "shell.execute_reply.started": "2022-01-09T06:00:53.436897Z"
        },
        "id": "REGEAqQ7KE0M",
        "outputId": "b7206465-0fb0-4081-cf92-89442d7c80c7"
      },
      "outputs": [
        {
          "data": {
            "text/html": [
              "<div>\n",
              "<style scoped>\n",
              "    .dataframe tbody tr th:only-of-type {\n",
              "        vertical-align: middle;\n",
              "    }\n",
              "\n",
              "    .dataframe tbody tr th {\n",
              "        vertical-align: top;\n",
              "    }\n",
              "\n",
              "    .dataframe thead th {\n",
              "        text-align: right;\n",
              "    }\n",
              "</style>\n",
              "<table border=\"1\" class=\"dataframe\">\n",
              "  <thead>\n",
              "    <tr style=\"text-align: right;\">\n",
              "      <th></th>\n",
              "      <th>DATE</th>\n",
              "      <th>unrate</th>\n",
              "      <th>psr</th>\n",
              "      <th>m2</th>\n",
              "      <th>dspic</th>\n",
              "      <th>pce</th>\n",
              "      <th>reer</th>\n",
              "      <th>ir</th>\n",
              "      <th>ffer</th>\n",
              "      <th>tcs</th>\n",
              "      <th>indpro</th>\n",
              "      <th>ccpi</th>\n",
              "    </tr>\n",
              "  </thead>\n",
              "  <tbody>\n",
              "    <tr>\n",
              "      <th>156</th>\n",
              "      <td>1994-01-01</td>\n",
              "      <td>6.6</td>\n",
              "      <td>7.1</td>\n",
              "      <td>3481.800</td>\n",
              "      <td>7363.1</td>\n",
              "      <td>4585.1</td>\n",
              "      <td>105.21</td>\n",
              "      <td>5.750500</td>\n",
              "      <td>3.050645</td>\n",
              "      <td>513314.0</td>\n",
              "      <td>67.0596</td>\n",
              "      <td>154.5</td>\n",
              "    </tr>\n",
              "    <tr>\n",
              "      <th>157</th>\n",
              "      <td>1994-02-01</td>\n",
              "      <td>6.6</td>\n",
              "      <td>6.5</td>\n",
              "      <td>3459.675</td>\n",
              "      <td>7377.2</td>\n",
              "      <td>4632.6</td>\n",
              "      <td>104.66</td>\n",
              "      <td>5.973158</td>\n",
              "      <td>3.245000</td>\n",
              "      <td>513196.0</td>\n",
              "      <td>67.1060</td>\n",
              "      <td>154.8</td>\n",
              "    </tr>\n",
              "    <tr>\n",
              "      <th>158</th>\n",
              "      <td>1994-03-01</td>\n",
              "      <td>6.5</td>\n",
              "      <td>6.8</td>\n",
              "      <td>3476.975</td>\n",
              "      <td>7401.7</td>\n",
              "      <td>4646.0</td>\n",
              "      <td>104.78</td>\n",
              "      <td>6.482609</td>\n",
              "      <td>3.335806</td>\n",
              "      <td>521040.0</td>\n",
              "      <td>67.7792</td>\n",
              "      <td>155.3</td>\n",
              "    </tr>\n",
              "    <tr>\n",
              "      <th>159</th>\n",
              "      <td>1994-04-01</td>\n",
              "      <td>6.4</td>\n",
              "      <td>6.4</td>\n",
              "      <td>3507.150</td>\n",
              "      <td>7402.0</td>\n",
              "      <td>4671.1</td>\n",
              "      <td>104.68</td>\n",
              "      <td>6.972105</td>\n",
              "      <td>3.555000</td>\n",
              "      <td>528063.0</td>\n",
              "      <td>68.1906</td>\n",
              "      <td>155.5</td>\n",
              "    </tr>\n",
              "    <tr>\n",
              "      <th>160</th>\n",
              "      <td>1994-05-01</td>\n",
              "      <td>6.1</td>\n",
              "      <td>7.6</td>\n",
              "      <td>3472.840</td>\n",
              "      <td>7487.4</td>\n",
              "      <td>4669.5</td>\n",
              "      <td>103.78</td>\n",
              "      <td>7.183333</td>\n",
              "      <td>4.010968</td>\n",
              "      <td>532328.0</td>\n",
              "      <td>68.5136</td>\n",
              "      <td>155.9</td>\n",
              "    </tr>\n",
              "  </tbody>\n",
              "</table>\n",
              "</div>"
            ],
            "text/plain": [
              "           DATE  unrate  psr        m2   dspic     pce    reer        ir  \\\n",
              "156  1994-01-01     6.6  7.1  3481.800  7363.1  4585.1  105.21  5.750500   \n",
              "157  1994-02-01     6.6  6.5  3459.675  7377.2  4632.6  104.66  5.973158   \n",
              "158  1994-03-01     6.5  6.8  3476.975  7401.7  4646.0  104.78  6.482609   \n",
              "159  1994-04-01     6.4  6.4  3507.150  7402.0  4671.1  104.68  6.972105   \n",
              "160  1994-05-01     6.1  7.6  3472.840  7487.4  4669.5  103.78  7.183333   \n",
              "\n",
              "         ffer       tcs   indpro   ccpi  \n",
              "156  3.050645  513314.0  67.0596  154.5  \n",
              "157  3.245000  513196.0  67.1060  154.8  \n",
              "158  3.335806  521040.0  67.7792  155.3  \n",
              "159  3.555000  528063.0  68.1906  155.5  \n",
              "160  4.010968  532328.0  68.5136  155.9  "
            ]
          },
          "execution_count": 319,
          "metadata": {},
          "output_type": "execute_result"
        }
      ],
      "source": [
        "monthly_raw.dropna(inplace=True)\n",
        "monthly_raw.head(5)"
      ]
    },
    {
      "cell_type": "markdown",
      "metadata": {
        "id": "rDA6VYhAKE0O"
      },
      "source": [
        "## Compréhension des données\n",
        "Vérification rapide des types de données et conversion de realtime_start et date en datetime."
      ]
    },
    {
      "cell_type": "code",
      "execution_count": null,
      "metadata": {
        "execution": {
          "iopub.execute_input": "2022-01-09T06:00:53.459841Z",
          "iopub.status.busy": "2022-01-09T06:00:53.459358Z",
          "iopub.status.idle": "2022-01-09T06:00:53.475210Z",
          "shell.execute_reply": "2022-01-09T06:00:53.474534Z",
          "shell.execute_reply.started": "2022-01-09T06:00:53.459801Z"
        },
        "id": "lgPQQXYuKE0Q",
        "outputId": "252cb236-575b-47bd-af38-b786a6fcabaf"
      },
      "outputs": [
        {
          "data": {
            "text/plain": [
              "DATE       object\n",
              "unrate    float64\n",
              "psr       float64\n",
              "m2        float64\n",
              "dspic     float64\n",
              "pce       float64\n",
              "reer      float64\n",
              "ir        float64\n",
              "ffer      float64\n",
              "tcs       float64\n",
              "indpro    float64\n",
              "ccpi      float64\n",
              "dtype: object"
            ]
          },
          "execution_count": 320,
          "metadata": {},
          "output_type": "execute_result"
        }
      ],
      "source": [
        "monthly_raw.dtypes\n",
        "\n",
        "monthly_raw.DATE = pd.to_datetime(monthly_raw.DATE)"
      ]
    },
    {
      "cell_type": "code",
      "execution_count": null,
      "metadata": {
        "execution": {
          "iopub.execute_input": "2022-01-09T06:00:53.477295Z",
          "iopub.status.busy": "2022-01-09T06:00:53.476484Z",
          "iopub.status.idle": "2022-01-09T06:00:53.484202Z",
          "shell.execute_reply": "2022-01-09T06:00:53.483439Z",
          "shell.execute_reply.started": "2022-01-09T06:00:53.477248Z"
        },
        "id": "keLlHqF4KE0S",
        "outputId": "3f365e67-09fc-4406-c3ab-001a3034962d"
      },
      "outputs": [
        {
          "data": {
            "text/plain": [
              "334"
            ]
          },
          "execution_count": 321,
          "metadata": {},
          "output_type": "execute_result"
        }
      ],
      "source": [
        "monthly_raw['DATE'].nunique()"
      ]
    },
    {
      "cell_type": "code",
      "execution_count": null,
      "metadata": {
        "execution": {
          "iopub.execute_input": "2022-01-09T06:00:53.485864Z",
          "iopub.status.busy": "2022-01-09T06:00:53.485298Z",
          "iopub.status.idle": "2022-01-09T06:00:53.494010Z",
          "shell.execute_reply": "2022-01-09T06:00:53.493322Z",
          "shell.execute_reply.started": "2022-01-09T06:00:53.485828Z"
        },
        "id": "nfaMvoKTKE0W"
      },
      "outputs": [],
      "source": [
        "monthly_df = monthly_raw.copy()"
      ]
    },
    {
      "cell_type": "markdown",
      "metadata": {
        "id": "s8ok6tS8KE0Y"
      },
      "source": [
        "### Tendance des indicateurs macroéconomiques\n",
        "<a id = \"trend\"></a>\n",
        "Nous pouvons commencer par générer des caractéristiques et créer des variations en pourcentage d'un mois à l'autre et d'une année à l'autre."
      ]
    },
    {
      "cell_type": "code",
      "execution_count": null,
      "metadata": {
        "execution": {
          "iopub.execute_input": "2022-01-09T06:00:53.495772Z",
          "iopub.status.busy": "2022-01-09T06:00:53.494998Z",
          "iopub.status.idle": "2022-01-09T06:00:55.627062Z",
          "shell.execute_reply": "2022-01-09T06:00:55.626192Z",
          "shell.execute_reply.started": "2022-01-09T06:00:53.495733Z"
        },
        "id": "zRXq2cdfKE0a",
        "outputId": "c4c1c844-407d-40e1-f7b4-689b4bf6a502"
      },
      "outputs": [
        {
          "data": {
            "text/plain": [
              "array([[<AxesSubplot:title={'center':'Unemployment Rate'}>,\n",
              "        <AxesSubplot:title={'center':'Personal Saving Rate'}>,\n",
              "        <AxesSubplot:title={'center':'M2'}>],\n",
              "       [<AxesSubplot:title={'center':'Disposable Income'}>,\n",
              "        <AxesSubplot:title={'center':'Personal Consumption Expenditure'}>,\n",
              "        <AxesSubplot:title={'center':'Real Effective Exchange Rate'}>],\n",
              "       [<AxesSubplot:title={'center':'10Y Treasury Yield'}>,\n",
              "        <AxesSubplot:title={'center':'Fed Rate'}>,\n",
              "        <AxesSubplot:title={'center':'Construction Spending'}>],\n",
              "       [<AxesSubplot:title={'center':'Industrial Production Index'}>,\n",
              "        <AxesSubplot:title={'center':'Core CPI'}>,\n",
              "        <AxesSubplot:title={'center':'Core CPI % Change MoM'}>]],\n",
              "      dtype=object)"
            ]
          },
          "execution_count": 323,
          "metadata": {},
          "output_type": "execute_result"
        },
        {
          "data": {
            "text/plain": [
              "Text(0.5, 0.98, '27 Year Macroeconomic Indicators for the United States')"
            ]
          },
          "execution_count": 323,
          "metadata": {},
          "output_type": "execute_result"
        },
        {
          "data": {
            "image/png": "[encoded data removed]",
            "text/plain": [
              "<Figure size 1152x1152 with 12 Axes>"
            ]
          },
          "metadata": {
            "needs_background": "light"
          },
          "output_type": "display_data"
        }
      ],
      "source": [
        "monthly_df['cpi_pct_mom'] = round((monthly_df['ccpi'].pct_change().fillna(0))*100,2)\n",
        "monthly_df['cpi_pct_yoy'] = round((monthly_df['ccpi'].pct_change(12).fillna(0))*100,2)\n",
        "\n",
        "monthly_df.iloc[:, 1:13].plot(kind ='line',\n",
        "            subplots = True,\n",
        "            figsize = (16,16),\n",
        "            title = ['Unemployment Rate', 'Personal Saving Rate','M2','Disposable Income','Personal Consumption Expenditure','Real Effective Exchange Rate',\n",
        "                     '10Y Treasury Yield','Fed Rate','Construction Spending','Industrial Production Index','Core CPI','Core CPI % Change MoM'],\n",
        "            legend = False,\n",
        "            layout = (4,3),\n",
        "            sharex = True,\n",
        "            style = ['midnightblue', 'steelblue', 'dodgerblue', 'slateblue','mediumblue','darkslateblue','red','salmon','brown','maroon','tomato'])\n",
        "\n",
        "plt.suptitle('27 Year Macroeconomic Indicators for the United States', fontsize = 24)"
      ]
    },
    {
      "cell_type": "markdown",
      "metadata": {
        "id": "7qc2YNHQKE0c"
      },
      "source": [
        "### Tendance de l'IPC de base par mois et par trimestre\n",
        "<a id = \"mq\"></a>"
      ]
    },
    {
      "cell_type": "code",
      "execution_count": null,
      "metadata": {
        "execution": {
          "iopub.execute_input": "2022-01-09T06:00:55.628414Z",
          "iopub.status.busy": "2022-01-09T06:00:55.628205Z",
          "iopub.status.idle": "2022-01-09T06:00:55.642695Z",
          "shell.execute_reply": "2022-01-09T06:00:55.641715Z",
          "shell.execute_reply.started": "2022-01-09T06:00:55.628386Z"
        },
        "id": "q19StemJKE0d"
      },
      "outputs": [],
      "source": [
        "monthly_df['year'] = monthly_df['DATE'].apply(lambda x: x.year)\n",
        "monthly_df['quarter'] = monthly_df['DATE'].apply(lambda x: x.quarter)\n",
        "monthly_df['month'] = monthly_df['DATE'].apply(lambda x: x.month)"
      ]
    },
    {
      "cell_type": "code",
      "execution_count": null,
      "metadata": {
        "execution": {
          "iopub.execute_input": "2022-01-09T06:00:55.647779Z",
          "iopub.status.busy": "2022-01-09T06:00:55.647245Z",
          "iopub.status.idle": "2022-01-09T06:00:55.733720Z",
          "shell.execute_reply": "2022-01-09T06:00:55.732897Z",
          "shell.execute_reply.started": "2022-01-09T06:00:55.647701Z"
        },
        "id": "9zvfWqxxKE0f",
        "outputId": "17852df2-72e0-4d77-ac28-37f1d5245e9b"
      },
      "outputs": [
        {
          "data": {
            "application/vnd.plotly.v1+json": {
              "config": {
                "plotlyServerURL": "https://plot.ly"
              },
              "data": [
                {
                  "alignmentgroup": "True",
                  "boxpoints": "all",
                  "hovertemplate": "month=%{x}<br>cpi_pct_yoy=%{y}<extra></extra>",
                  "legendgroup": "",
                  "marker": {
                    "color": "#1F77B4"
                  },
                  "name": "",
                  "notched": false,
                  "offsetgroup": "",
                  "orientation": "v",
                  "showlegend": false,
                  "type": "box",
                  "x": [
                    1,
                    2,
                    3,
                    4,
                    5,
                    6,
                    7,
                    8,
                    9,
                    10,
                    11,
                    12,
                    1,
                    2,
                    3,
                    4,
                    5,
                    6,
                    7,
                    8,
                    9,
                    10,
                    11,
                    12,
                    1,
                    2,
                    3,
                    4,
                    5,
                    6,
                    7,
                    8,
                    9,
                    10,
                    11,
                    12,
                    1,
                    2,
                    3,
                    4,
                    5,
                    6,
                    7,
                    8,
                    9,
                    10,
                    11,
                    12,
                    1,
                    2,
                    3,
                    4,
                    5,
                    6,
                    7,
                    8,
                    9,
                    10,
                    11,
                    12,
                    1,
                    2,
                    3,
                    4,
                    5,
                    6,
                    7,
                    8,
                    9,
                    10,
                    11,
                    12,
                    1,
                    2,
                    3,
                    4,
                    5,
                    6,
                    7,
                    8,
                    9,
                    10,
                    11,
                    12,
                    1,
                    2,
                    3,
                    4,
                    5,
                    6,
                    7,
                    8,
                    9,
                    10,
                    11,
                    12,
                    1,
                    2,
                    3,
                    4,
                    5,
                    6,
                    7,
                    8,
                    9,
                    10,
                    11,
                    12,
                    1,
                    2,
                    3,
                    4,
                    5,
                    6,
                    7,
                    8,
                    9,
                    10,
                    11,
                    12,
                    1,
                    2,
                    3,
                    4,
                    5,
                    6,
                    7,
                    8,
                    9,
                    10,
                    11,
                    12,
                    1,
                    2,
                    3,
                    4,
                    5,
                    6,
                    7,
                    8,
                    9,
                    10,
                    11,
                    12,
                    1,
                    2,
                    3,
                    4,
                    5,
                    6,
                    7,
                    8,
                    9,
                    10,
                    11,
                    12,
                    1,
                    2,
                    3,
                    4,
                    5,
                    6,
                    7,
                    8,
                    9,
                    10,
                    11,
                    12,
                    1,
                    2,
                    3,
                    4,
                    5,
                    6,
                    7,
                    8,
                    9,
                    10,
                    11,
                    12,
                    1,
                    2,
                    3,
                    4,
                    5,
                    6,
                    7,
                    8,
                    9,
                    10,
                    11,
                    12,
                    1,
                    2,
                    3,
                    4,
                    5,
                    6,
                    7,
                    8,
                    9,
                    10,
                    11,
                    12,
                    1,
                    2,
                    3,
                    4,
                    5,
                    6,
                    7,
                    8,
                    9,
                    10,
                    11,
                    12,
                    1,
                    2,
                    3,
                    4,
                    5,
                    6,
                    7,
                    8,
                    9,
                    10,
                    11,
                    12,
                    1,
                    2,
                    3,
                    4,
                    5,
                    6,
                    7,
                    8,
                    9,
                    10,
                    11,
                    12,
                    1,
                    2,
                    3,
                    4,
                    5,
                    6,
                    7,
                    8,
                    9,
                    10,
                    11,
                    12,
                    1,
                    2,
                    3,
                    4,
                    5,
                    6,
                    7,
                    8,
                    9,
                    10,
                    11,
                    12,
                    1,
                    2,
                    3,
                    4,
                    5,
                    6,
                    7,
                    8,
                    9,
                    10,
                    11,
                    12,
                    1,
                    2,
                    3,
                    4,
                    5,
                    6,
                    7,
                    8,
                    9,
                    10,
                    11,
                    12,
                    1,
                    2,
                    3,
                    4,
                    5,
                    6,
                    7,
                    8,
                    9,
                    10,
                    11,
                    12,
                    1,
                    2,
                    3,
                    4,
                    5,
                    6,
                    7,
                    8,
                    9,
                    10,
                    11,
                    12,
                    1,
                    2,
                    3,
                    4,
                    5,
                    6,
                    7,
                    8,
                    9,
                    10
                  ],
                  "x0": " ",
                  "xaxis": "x",
                  "y": [
                    2.91,
                    2.97,
                    2.96,
                    3.15,
                    3.08,
                    3.01,
                    3,
                    2.99,
                    2.98,
                    3.11,
                    3.03,
                    3.03,
                    2.96,
                    2.89,
                    2.81,
                    2.62,
                    2.68,
                    2.67,
                    2.66,
                    2.6,
                    2.65,
                    2.52,
                    2.58,
                    2.64,
                    2.5,
                    2.5,
                    2.43,
                    2.61,
                    2.55,
                    2.42,
                    2.41,
                    2.29,
                    2.22,
                    2.28,
                    2.15,
                    2.27,
                    2.26,
                    2.26,
                    2.26,
                    2.13,
                    2.19,
                    2.24,
                    2.24,
                    2.47,
                    2.35,
                    2.23,
                    2.34,
                    2.45,
                    2.33,
                    2.15,
                    2.03,
                    2.2,
                    2.08,
                    1.96,
                    2.07,
                    1.9,
                    2.07,
                    2.12,
                    2.06,
                    1.88,
                    2.11,
                    2.16,
                    2.45,
                    2.27,
                    2.38,
                    2.55,
                    2.48,
                    2.59,
                    2.53,
                    2.53,
                    2.63,
                    2.57,
                    2.57,
                    2.79,
                    2.61,
                    2.66,
                    2.55,
                    2.71,
                    2.7,
                    2.64,
                    2.63,
                    2.63,
                    2.73,
                    2.78,
                    2.61,
                    2.55,
                    2.44,
                    2.49,
                    2.54,
                    2.26,
                    2.2,
                    2.36,
                    2.24,
                    2.19,
                    2.02,
                    1.96,
                    1.96,
                    1.8,
                    1.74,
                    1.48,
                    1.53,
                    1.47,
                    1.52,
                    1.31,
                    1.25,
                    1.31,
                    1.09,
                    1.09,
                    1.14,
                    1.25,
                    1.56,
                    1.77,
                    1.71,
                    1.87,
                    1.76,
                    1.7,
                    1.96,
                    2.01,
                    2.22,
                    2.27,
                    2.26,
                    2.31,
                    2.35,
                    2.19,
                    2.19,
                    2.03,
                    2.08,
                    2.13,
                    1.92,
                    2.07,
                    2.12,
                    2.11,
                    2.11,
                    2.11,
                    2.1,
                    2.3,
                    2.44,
                    2.64,
                    2.69,
                    2.83,
                    2.93,
                    2.77,
                    2.62,
                    2.61,
                    2.66,
                    2.72,
                    2.51,
                    2.42,
                    2.27,
                    2.18,
                    2.17,
                    2.09,
                    2.1,
                    2.16,
                    2.34,
                    2.44,
                    2.48,
                    2.3,
                    2.39,
                    2.29,
                    2.32,
                    2.39,
                    2.46,
                    2.5,
                    2.44,
                    2.22,
                    2.02,
                    1.76,
                    1.67,
                    1.8,
                    1.79,
                    1.93,
                    1.85,
                    1.71,
                    1.53,
                    1.43,
                    1.48,
                    1.71,
                    1.71,
                    1.82,
                    1.51,
                    1.35,
                    1.16,
                    0.97,
                    0.94,
                    0.95,
                    0.96,
                    0.92,
                    0.81,
                    0.6,
                    0.67,
                    0.66,
                    0.98,
                    1.12,
                    1.21,
                    1.32,
                    1.45,
                    1.58,
                    1.74,
                    1.97,
                    1.99,
                    2.11,
                    2.14,
                    2.28,
                    2.28,
                    2.16,
                    2.25,
                    2.31,
                    2.25,
                    2.19,
                    2.11,
                    1.94,
                    2.01,
                    1.99,
                    1.95,
                    1.9,
                    1.91,
                    1.99,
                    1.89,
                    1.72,
                    1.65,
                    1.62,
                    1.7,
                    1.78,
                    1.75,
                    1.69,
                    1.74,
                    1.74,
                    1.61,
                    1.55,
                    1.65,
                    1.82,
                    1.95,
                    1.92,
                    1.84,
                    1.74,
                    1.74,
                    1.82,
                    1.74,
                    1.62,
                    1.63,
                    1.69,
                    1.75,
                    1.8,
                    1.75,
                    1.78,
                    1.83,
                    1.85,
                    1.9,
                    1.91,
                    2,
                    2.07,
                    2.15,
                    2.22,
                    2.14,
                    2.16,
                    2.25,
                    2.26,
                    2.17,
                    2.31,
                    2.27,
                    2.2,
                    2.15,
                    2.2,
                    2.25,
                    2.2,
                    2,
                    1.91,
                    1.76,
                    1.73,
                    1.7,
                    1.68,
                    1.69,
                    1.76,
                    1.71,
                    1.76,
                    1.81,
                    1.82,
                    2.11,
                    2.15,
                    2.25,
                    2.27,
                    2.33,
                    2.17,
                    2.17,
                    2.15,
                    2.23,
                    2.19,
                    2.12,
                    2.06,
                    2.04,
                    2.1,
                    2.03,
                    2.17,
                    2.2,
                    2.35,
                    2.35,
                    2.33,
                    2.32,
                    2.22,
                    2.26,
                    2.36,
                    2.1,
                    1.44,
                    1.24,
                    1.2,
                    1.56,
                    1.7,
                    1.72,
                    1.63,
                    1.65,
                    1.61,
                    1.4,
                    1.28,
                    1.65,
                    2.96,
                    3.8,
                    4.45,
                    4.23,
                    3.98,
                    4.04,
                    4.58
                  ],
                  "y0": " ",
                  "yaxis": "y"
                }
              ],
              "layout": {
                "autosize": true,
                "boxmode": "group",
                "legend": {
                  "tracegroupgap": 0
                },
                "margin": {
                  "t": 60
                },
                "template": {
                  "data": {
                    "pie": [
                      {
                        "automargin": true,
                        "type": "pie"
                      }
                    ],
                    "scatter": [
                      {
                        "line": {
                          "width": 3
                        },
                        "marker": {
                          "size": 9
                        },
                        "type": "scatter"
                      }
                    ],
                    "scatter3d": [
                      {
                        "line": {
                          "width": 3
                        },
                        "marker": {
                          "size": 9
                        },
                        "type": "scatter3d"
                      }
                    ],
                    "scattergeo": [
                      {
                        "line": {
                          "width": 3
                        },
                        "marker": {
                          "size": 9
                        },
                        "type": "scattergeo"
                      }
                    ],
                    "scattergl": [
                      {
                        "line": {
                          "width": 3
                        },
                        "marker": {
                          "size": 9
                        },
                        "type": "scattergl"
                      }
                    ],
                    "scatterpolar": [
                      {
                        "line": {
                          "width": 3
                        },
                        "marker": {
                          "size": 9
                        },
                        "type": "scatterpolar"
                      }
                    ],
                    "scatterpolargl": [
                      {
                        "line": {
                          "width": 3
                        },
                        "marker": {
                          "size": 9
                        },
                        "type": "scatterpolargl"
                      }
                    ],
                    "scatterternary": [
                      {
                        "line": {
                          "width": 3
                        },
                        "marker": {
                          "size": 9
                        },
                        "type": "scatterternary"
                      }
                    ],
                    "table": [
                      {
                        "cells": {
                          "height": 30
                        },
                        "header": {
                          "height": 36
                        },
                        "type": "table"
                      }
                    ]
                  },
                  "layout": {
                    "font": {
                      "size": 18
                    },
                    "xaxis": {
                      "title": {
                        "standoff": 15
                      }
                    },
                    "yaxis": {
                      "title": {
                        "standoff": 15
                      }
                    }
                  }
                },
                "xaxis": {
                  "anchor": "y",
                  "autorange": true,
                  "domain": [
                    0,
                    1
                  ],
                  "range": [
                    0.47158642462509864,
                    12.5
                  ],
                  "tickmode": "linear",
                  "title": {
                    "text": "month"
                  },
                  "type": "linear"
                },
                "yaxis": {
                  "anchor": "x",
                  "autorange": true,
                  "domain": [
                    0,
                    1
                  ],
                  "range": [
                    0.37888888888888883,
                    4.801111111111111
                  ],
                  "title": {
                    "text": "cpi_pct_yoy"
                  },
                  "type": "linear"
                }
              }
            },
            "image/png": "[encoded data removed]",
            "text/html": [
              "<div>                            <div id=\"ae72b0b1-3b24-4f56-9fc6-78bacfeb18d0\" class=\"plotly-graph-div\" style=\"height:525px; width:100%;\"></div>            <script type=\"text/javascript\">                require([\"plotly\"], function(Plotly) {                    window.PLOTLYENV=window.PLOTLYENV || {};                                    if (document.getElementById(\"ae72b0b1-3b24-4f56-9fc6-78bacfeb18d0\")) {                    Plotly.newPlot(                        \"ae72b0b1-3b24-4f56-9fc6-78bacfeb18d0\",                        [{\"alignmentgroup\":\"True\",\"boxpoints\":\"all\",\"hovertemplate\":\"month=%{x}<br>cpi_pct_yoy=%{y}<extra></extra>\",\"legendgroup\":\"\",\"marker\":{\"color\":\"#1F77B4\"},\"name\":\"\",\"notched\":false,\"offsetgroup\":\"\",\"orientation\":\"v\",\"showlegend\":false,\"x\":[1,2,3,4,5,6,7,8,9,10,11,12,1,2,3,4,5,6,7,8,9,10,11,12,1,2,3,4,5,6,7,8,9,10,11,12,1,2,3,4,5,6,7,8,9,10,11,12,1,2,3,4,5,6,7,8,9,10,11,12,1,2,3,4,5,6,7,8,9,10,11,12,1,2,3,4,5,6,7,8,9,10,11,12,1,2,3,4,5,6,7,8,9,10,11,12,1,2,3,4,5,6,7,8,9,10,11,12,1,2,3,4,5,6,7,8,9,10,11,12,1,2,3,4,5,6,7,8,9,10,11,12,1,2,3,4,5,6,7,8,9,10,11,12,1,2,3,4,5,6,7,8,9,10,11,12,1,2,3,4,5,6,7,8,9,10,11,12,1,2,3,4,5,6,7,8,9,10,11,12,1,2,3,4,5,6,7,8,9,10,11,12,1,2,3,4,5,6,7,8,9,10,11,12,1,2,3,4,5,6,7,8,9,10,11,12,1,2,3,4,5,6,7,8,9,10,11,12,1,2,3,4,5,6,7,8,9,10,11,12,1,2,3,4,5,6,7,8,9,10,11,12,1,2,3,4,5,6,7,8,9,10,11,12,1,2,3,4,5,6,7,8,9,10,11,12,1,2,3,4,5,6,7,8,9,10,11,12,1,2,3,4,5,6,7,8,9,10,11,12,1,2,3,4,5,6,7,8,9,10,11,12,1,2,3,4,5,6,7,8,9,10],\"x0\":\" \",\"xaxis\":\"x\",\"y\":[2.91,2.97,2.96,3.15,3.08,3.01,3.0,2.99,2.98,3.11,3.03,3.03,2.96,2.89,2.81,2.62,2.68,2.67,2.66,2.6,2.65,2.52,2.58,2.64,2.5,2.5,2.43,2.61,2.55,2.42,2.41,2.29,2.22,2.28,2.15,2.27,2.26,2.26,2.26,2.13,2.19,2.24,2.24,2.47,2.35,2.23,2.34,2.45,2.33,2.15,2.03,2.2,2.08,1.96,2.07,1.9,2.07,2.12,2.06,1.88,2.11,2.16,2.45,2.27,2.38,2.55,2.48,2.59,2.53,2.53,2.63,2.57,2.57,2.79,2.61,2.66,2.55,2.71,2.7,2.64,2.63,2.63,2.73,2.78,2.61,2.55,2.44,2.49,2.54,2.26,2.2,2.36,2.24,2.19,2.02,1.96,1.96,1.8,1.74,1.48,1.53,1.47,1.52,1.31,1.25,1.31,1.09,1.09,1.14,1.25,1.56,1.77,1.71,1.87,1.76,1.7,1.96,2.01,2.22,2.27,2.26,2.31,2.35,2.19,2.19,2.03,2.08,2.13,1.92,2.07,2.12,2.11,2.11,2.11,2.1,2.3,2.44,2.64,2.69,2.83,2.93,2.77,2.62,2.61,2.66,2.72,2.51,2.42,2.27,2.18,2.17,2.09,2.1,2.16,2.34,2.44,2.48,2.3,2.39,2.29,2.32,2.39,2.46,2.5,2.44,2.22,2.02,1.76,1.67,1.8,1.79,1.93,1.85,1.71,1.53,1.43,1.48,1.71,1.71,1.82,1.51,1.35,1.16,0.97,0.94,0.95,0.96,0.92,0.81,0.6,0.67,0.66,0.98,1.12,1.21,1.32,1.45,1.58,1.74,1.97,1.99,2.11,2.14,2.28,2.28,2.16,2.25,2.31,2.25,2.19,2.11,1.94,2.01,1.99,1.95,1.9,1.91,1.99,1.89,1.72,1.65,1.62,1.7,1.78,1.75,1.69,1.74,1.74,1.61,1.55,1.65,1.82,1.95,1.92,1.84,1.74,1.74,1.82,1.74,1.62,1.63,1.69,1.75,1.8,1.75,1.78,1.83,1.85,1.9,1.91,2.0,2.07,2.15,2.22,2.14,2.16,2.25,2.26,2.17,2.31,2.27,2.2,2.15,2.2,2.25,2.2,2.0,1.91,1.76,1.73,1.7,1.68,1.69,1.76,1.71,1.76,1.81,1.82,2.11,2.15,2.25,2.27,2.33,2.17,2.17,2.15,2.23,2.19,2.12,2.06,2.04,2.1,2.03,2.17,2.2,2.35,2.35,2.33,2.32,2.22,2.26,2.36,2.1,1.44,1.24,1.2,1.56,1.7,1.72,1.63,1.65,1.61,1.4,1.28,1.65,2.96,3.8,4.45,4.23,3.98,4.04,4.58],\"y0\":\" \",\"yaxis\":\"y\",\"type\":\"box\"}],                        {\"template\":{\"data\":{\"pie\":[{\"automargin\":true,\"type\":\"pie\"}],\"scatter3d\":[{\"line\":{\"width\":3},\"marker\":{\"size\":9},\"type\":\"scatter3d\"}],\"scattergeo\":[{\"line\":{\"width\":3},\"marker\":{\"size\":9},\"type\":\"scattergeo\"}],\"scattergl\":[{\"line\":{\"width\":3},\"marker\":{\"size\":9},\"type\":\"scattergl\"}],\"scatterpolargl\":[{\"line\":{\"width\":3},\"marker\":{\"size\":9},\"type\":\"scatterpolargl\"}],\"scatterpolar\":[{\"line\":{\"width\":3},\"marker\":{\"size\":9},\"type\":\"scatterpolar\"}],\"scatter\":[{\"line\":{\"width\":3},\"marker\":{\"size\":9},\"type\":\"scatter\"}],\"scatterternary\":[{\"line\":{\"width\":3},\"marker\":{\"size\":9},\"type\":\"scatterternary\"}],\"table\":[{\"cells\":{\"height\":30},\"header\":{\"height\":36},\"type\":\"table\"}]},\"layout\":{\"font\":{\"size\":18},\"xaxis\":{\"title\":{\"standoff\":15}},\"yaxis\":{\"title\":{\"standoff\":15}}}},\"xaxis\":{\"anchor\":\"y\",\"domain\":[0.0,1.0],\"title\":{\"text\":\"month\"},\"tickmode\":\"linear\"},\"yaxis\":{\"anchor\":\"x\",\"domain\":[0.0,1.0],\"title\":{\"text\":\"cpi_pct_yoy\"}},\"legend\":{\"tracegroupgap\":0},\"margin\":{\"t\":60},\"boxmode\":\"group\"},                        {\"responsive\": true}                    ).then(function(){\n",
              "                            \n",
              "var gd = document.getElementById('ae72b0b1-3b24-4f56-9fc6-78bacfeb18d0');\n",
              "var x = new MutationObserver(function (mutations, observer) {{\n",
              "        var display = window.getComputedStyle(gd).display;\n",
              "        if (!display || display === 'none') {{\n",
              "            console.log([gd, 'removed!']);\n",
              "            Plotly.purge(gd);\n",
              "            observer.disconnect();\n",
              "        }}\n",
              "}});\n",
              "\n",
              "// Listen for the removal of the full notebook cells\n",
              "var notebookContainer = gd.closest('#notebook-container');\n",
              "if (notebookContainer) {{\n",
              "    x.observe(notebookContainer, {childList: true});\n",
              "}}\n",
              "\n",
              "// Listen for the clearing of the current output cell\n",
              "var outputEl = gd.closest('.output');\n",
              "if (outputEl) {{\n",
              "    x.observe(outputEl, {childList: true});\n",
              "}}\n",
              "\n",
              "                        })                };                });            </script>        </div>"
            ]
          },
          "metadata": {},
          "output_type": "display_data"
        },
        {
          "data": {
            "application/vnd.plotly.v1+json": {
              "config": {
                "plotlyServerURL": "https://plot.ly"
              },
              "data": [
                {
                  "alignmentgroup": "True",
                  "boxpoints": "all",
                  "hovertemplate": "quarter=%{x}<br>cpi_pct_yoy=%{y}<extra></extra>",
                  "legendgroup": "",
                  "marker": {
                    "color": "#1F77B4"
                  },
                  "name": "",
                  "notched": false,
                  "offsetgroup": "",
                  "orientation": "v",
                  "showlegend": false,
                  "type": "box",
                  "x": [
                    1,
                    1,
                    1,
                    2,
                    2,
                    2,
                    3,
                    3,
                    3,
                    4,
                    4,
                    4,
                    1,
                    1,
                    1,
                    2,
                    2,
                    2,
                    3,
                    3,
                    3,
                    4,
                    4,
                    4,
                    1,
                    1,
                    1,
                    2,
                    2,
                    2,
                    3,
                    3,
                    3,
                    4,
                    4,
                    4,
                    1,
                    1,
                    1,
                    2,
                    2,
                    2,
                    3,
                    3,
                    3,
                    4,
                    4,
                    4,
                    1,
                    1,
                    1,
                    2,
                    2,
                    2,
                    3,
                    3,
                    3,
                    4,
                    4,
                    4,
                    1,
                    1,
                    1,
                    2,
                    2,
                    2,
                    3,
                    3,
                    3,
                    4,
                    4,
                    4,
                    1,
                    1,
                    1,
                    2,
                    2,
                    2,
                    3,
                    3,
                    3,
                    4,
                    4,
                    4,
                    1,
                    1,
                    1,
                    2,
                    2,
                    2,
                    3,
                    3,
                    3,
                    4,
                    4,
                    4,
                    1,
                    1,
                    1,
                    2,
                    2,
                    2,
                    3,
                    3,
                    3,
                    4,
                    4,
                    4,
                    1,
                    1,
                    1,
                    2,
                    2,
                    2,
                    3,
                    3,
                    3,
                    4,
                    4,
                    4,
                    1,
                    1,
                    1,
                    2,
                    2,
                    2,
                    3,
                    3,
                    3,
                    4,
                    4,
                    4,
                    1,
                    1,
                    1,
                    2,
                    2,
                    2,
                    3,
                    3,
                    3,
                    4,
                    4,
                    4,
                    1,
                    1,
                    1,
                    2,
                    2,
                    2,
                    3,
                    3,
                    3,
                    4,
                    4,
                    4,
                    1,
                    1,
                    1,
                    2,
                    2,
                    2,
                    3,
                    3,
                    3,
                    4,
                    4,
                    4,
                    1,
                    1,
                    1,
                    2,
                    2,
                    2,
                    3,
                    3,
                    3,
                    4,
                    4,
                    4,
                    1,
                    1,
                    1,
                    2,
                    2,
                    2,
                    3,
                    3,
                    3,
                    4,
                    4,
                    4,
                    1,
                    1,
                    1,
                    2,
                    2,
                    2,
                    3,
                    3,
                    3,
                    4,
                    4,
                    4,
                    1,
                    1,
                    1,
                    2,
                    2,
                    2,
                    3,
                    3,
                    3,
                    4,
                    4,
                    4,
                    1,
                    1,
                    1,
                    2,
                    2,
                    2,
                    3,
                    3,
                    3,
                    4,
                    4,
                    4,
                    1,
                    1,
                    1,
                    2,
                    2,
                    2,
                    3,
                    3,
                    3,
                    4,
                    4,
                    4,
                    1,
                    1,
                    1,
                    2,
                    2,
                    2,
                    3,
                    3,
                    3,
                    4,
                    4,
                    4,
                    1,
                    1,
                    1,
                    2,
                    2,
                    2,
                    3,
                    3,
                    3,
                    4,
                    4,
                    4,
                    1,
                    1,
                    1,
                    2,
                    2,
                    2,
                    3,
                    3,
                    3,
                    4,
                    4,
                    4,
                    1,
                    1,
                    1,
                    2,
                    2,
                    2,
                    3,
                    3,
                    3,
                    4,
                    4,
                    4,
                    1,
                    1,
                    1,
                    2,
                    2,
                    2,
                    3,
                    3,
                    3,
                    4,
                    4,
                    4,
                    1,
                    1,
                    1,
                    2,
                    2,
                    2,
                    3,
                    3,
                    3,
                    4,
                    4,
                    4,
                    1,
                    1,
                    1,
                    2,
                    2,
                    2,
                    3,
                    3,
                    3,
                    4
                  ],
                  "x0": " ",
                  "xaxis": "x",
                  "y": [
                    2.91,
                    2.97,
                    2.96,
                    3.15,
                    3.08,
                    3.01,
                    3,
                    2.99,
                    2.98,
                    3.11,
                    3.03,
                    3.03,
                    2.96,
                    2.89,
                    2.81,
                    2.62,
                    2.68,
                    2.67,
                    2.66,
                    2.6,
                    2.65,
                    2.52,
                    2.58,
                    2.64,
                    2.5,
                    2.5,
                    2.43,
                    2.61,
                    2.55,
                    2.42,
                    2.41,
                    2.29,
                    2.22,
                    2.28,
                    2.15,
                    2.27,
                    2.26,
                    2.26,
                    2.26,
                    2.13,
                    2.19,
                    2.24,
                    2.24,
                    2.47,
                    2.35,
                    2.23,
                    2.34,
                    2.45,
                    2.33,
                    2.15,
                    2.03,
                    2.2,
                    2.08,
                    1.96,
                    2.07,
                    1.9,
                    2.07,
                    2.12,
                    2.06,
                    1.88,
                    2.11,
                    2.16,
                    2.45,
                    2.27,
                    2.38,
                    2.55,
                    2.48,
                    2.59,
                    2.53,
                    2.53,
                    2.63,
                    2.57,
                    2.57,
                    2.79,
                    2.61,
                    2.66,
                    2.55,
                    2.71,
                    2.7,
                    2.64,
                    2.63,
                    2.63,
                    2.73,
                    2.78,
                    2.61,
                    2.55,
                    2.44,
                    2.49,
                    2.54,
                    2.26,
                    2.2,
                    2.36,
                    2.24,
                    2.19,
                    2.02,
                    1.96,
                    1.96,
                    1.8,
                    1.74,
                    1.48,
                    1.53,
                    1.47,
                    1.52,
                    1.31,
                    1.25,
                    1.31,
                    1.09,
                    1.09,
                    1.14,
                    1.25,
                    1.56,
                    1.77,
                    1.71,
                    1.87,
                    1.76,
                    1.7,
                    1.96,
                    2.01,
                    2.22,
                    2.27,
                    2.26,
                    2.31,
                    2.35,
                    2.19,
                    2.19,
                    2.03,
                    2.08,
                    2.13,
                    1.92,
                    2.07,
                    2.12,
                    2.11,
                    2.11,
                    2.11,
                    2.1,
                    2.3,
                    2.44,
                    2.64,
                    2.69,
                    2.83,
                    2.93,
                    2.77,
                    2.62,
                    2.61,
                    2.66,
                    2.72,
                    2.51,
                    2.42,
                    2.27,
                    2.18,
                    2.17,
                    2.09,
                    2.1,
                    2.16,
                    2.34,
                    2.44,
                    2.48,
                    2.3,
                    2.39,
                    2.29,
                    2.32,
                    2.39,
                    2.46,
                    2.5,
                    2.44,
                    2.22,
                    2.02,
                    1.76,
                    1.67,
                    1.8,
                    1.79,
                    1.93,
                    1.85,
                    1.71,
                    1.53,
                    1.43,
                    1.48,
                    1.71,
                    1.71,
                    1.82,
                    1.51,
                    1.35,
                    1.16,
                    0.97,
                    0.94,
                    0.95,
                    0.96,
                    0.92,
                    0.81,
                    0.6,
                    0.67,
                    0.66,
                    0.98,
                    1.12,
                    1.21,
                    1.32,
                    1.45,
                    1.58,
                    1.74,
                    1.97,
                    1.99,
                    2.11,
                    2.14,
                    2.28,
                    2.28,
                    2.16,
                    2.25,
                    2.31,
                    2.25,
                    2.19,
                    2.11,
                    1.94,
                    2.01,
                    1.99,
                    1.95,
                    1.9,
                    1.91,
                    1.99,
                    1.89,
                    1.72,
                    1.65,
                    1.62,
                    1.7,
                    1.78,
                    1.75,
                    1.69,
                    1.74,
                    1.74,
                    1.61,
                    1.55,
                    1.65,
                    1.82,
                    1.95,
                    1.92,
                    1.84,
                    1.74,
                    1.74,
                    1.82,
                    1.74,
                    1.62,
                    1.63,
                    1.69,
                    1.75,
                    1.8,
                    1.75,
                    1.78,
                    1.83,
                    1.85,
                    1.9,
                    1.91,
                    2,
                    2.07,
                    2.15,
                    2.22,
                    2.14,
                    2.16,
                    2.25,
                    2.26,
                    2.17,
                    2.31,
                    2.27,
                    2.2,
                    2.15,
                    2.2,
                    2.25,
                    2.2,
                    2,
                    1.91,
                    1.76,
                    1.73,
                    1.7,
                    1.68,
                    1.69,
                    1.76,
                    1.71,
                    1.76,
                    1.81,
                    1.82,
                    2.11,
                    2.15,
                    2.25,
                    2.27,
                    2.33,
                    2.17,
                    2.17,
                    2.15,
                    2.23,
                    2.19,
                    2.12,
                    2.06,
                    2.04,
                    2.1,
                    2.03,
                    2.17,
                    2.2,
                    2.35,
                    2.35,
                    2.33,
                    2.32,
                    2.22,
                    2.26,
                    2.36,
                    2.1,
                    1.44,
                    1.24,
                    1.2,
                    1.56,
                    1.7,
                    1.72,
                    1.63,
                    1.65,
                    1.61,
                    1.4,
                    1.28,
                    1.65,
                    2.96,
                    3.8,
                    4.45,
                    4.23,
                    3.98,
                    4.04,
                    4.58
                  ],
                  "y0": " ",
                  "yaxis": "y"
                }
              ],
              "layout": {
                "autosize": true,
                "boxmode": "group",
                "legend": {
                  "tracegroupgap": 0
                },
                "margin": {
                  "t": 60
                },
                "template": {
                  "data": {
                    "pie": [
                      {
                        "automargin": true,
                        "type": "pie"
                      }
                    ],
                    "scatter": [
                      {
                        "line": {
                          "width": 3
                        },
                        "marker": {
                          "size": 9
                        },
                        "type": "scatter"
                      }
                    ],
                    "scatter3d": [
                      {
                        "line": {
                          "width": 3
                        },
                        "marker": {
                          "size": 9
                        },
                        "type": "scatter3d"
                      }
                    ],
                    "scattergeo": [
                      {
                        "line": {
                          "width": 3
                        },
                        "marker": {
                          "size": 9
                        },
                        "type": "scattergeo"
                      }
                    ],
                    "scattergl": [
                      {
                        "line": {
                          "width": 3
                        },
                        "marker": {
                          "size": 9
                        },
                        "type": "scattergl"
                      }
                    ],
                    "scatterpolar": [
                      {
                        "line": {
                          "width": 3
                        },
                        "marker": {
                          "size": 9
                        },
                        "type": "scatterpolar"
                      }
                    ],
                    "scatterpolargl": [
                      {
                        "line": {
                          "width": 3
                        },
                        "marker": {
                          "size": 9
                        },
                        "type": "scatterpolargl"
                      }
                    ],
                    "scatterternary": [
                      {
                        "line": {
                          "width": 3
                        },
                        "marker": {
                          "size": 9
                        },
                        "type": "scatterternary"
                      }
                    ],
                    "table": [
                      {
                        "cells": {
                          "height": 30
                        },
                        "header": {
                          "height": 36
                        },
                        "type": "table"
                      }
                    ]
                  },
                  "layout": {
                    "font": {
                      "size": 18
                    },
                    "xaxis": {
                      "title": {
                        "standoff": 15
                      }
                    },
                    "yaxis": {
                      "title": {
                        "standoff": 15
                      }
                    }
                  }
                },
                "xaxis": {
                  "anchor": "y",
                  "autorange": true,
                  "domain": [
                    0,
                    1
                  ],
                  "range": [
                    0.4905288082083662,
                    4.5
                  ],
                  "title": {
                    "text": "quarter"
                  },
                  "type": "linear"
                },
                "yaxis": {
                  "anchor": "x",
                  "autorange": true,
                  "domain": [
                    0,
                    1
                  ],
                  "range": [
                    0.37888888888888883,
                    4.801111111111111
                  ],
                  "title": {
                    "text": "cpi_pct_yoy"
                  },
                  "type": "linear"
                }
              }
            },
            "image/png": "[encoded data removed]",
            "text/html": [
              "<div>                            <div id=\"fa800a15-9b77-481a-991e-8da972d6b6b6\" class=\"plotly-graph-div\" style=\"height:525px; width:100%;\"></div>            <script type=\"text/javascript\">                require([\"plotly\"], function(Plotly) {                    window.PLOTLYENV=window.PLOTLYENV || {};                                    if (document.getElementById(\"fa800a15-9b77-481a-991e-8da972d6b6b6\")) {                    Plotly.newPlot(                        \"fa800a15-9b77-481a-991e-8da972d6b6b6\",                        [{\"alignmentgroup\":\"True\",\"boxpoints\":\"all\",\"hovertemplate\":\"quarter=%{x}<br>cpi_pct_yoy=%{y}<extra></extra>\",\"legendgroup\":\"\",\"marker\":{\"color\":\"#1F77B4\"},\"name\":\"\",\"notched\":false,\"offsetgroup\":\"\",\"orientation\":\"v\",\"showlegend\":false,\"x\":[1,1,1,2,2,2,3,3,3,4,4,4,1,1,1,2,2,2,3,3,3,4,4,4,1,1,1,2,2,2,3,3,3,4,4,4,1,1,1,2,2,2,3,3,3,4,4,4,1,1,1,2,2,2,3,3,3,4,4,4,1,1,1,2,2,2,3,3,3,4,4,4,1,1,1,2,2,2,3,3,3,4,4,4,1,1,1,2,2,2,3,3,3,4,4,4,1,1,1,2,2,2,3,3,3,4,4,4,1,1,1,2,2,2,3,3,3,4,4,4,1,1,1,2,2,2,3,3,3,4,4,4,1,1,1,2,2,2,3,3,3,4,4,4,1,1,1,2,2,2,3,3,3,4,4,4,1,1,1,2,2,2,3,3,3,4,4,4,1,1,1,2,2,2,3,3,3,4,4,4,1,1,1,2,2,2,3,3,3,4,4,4,1,1,1,2,2,2,3,3,3,4,4,4,1,1,1,2,2,2,3,3,3,4,4,4,1,1,1,2,2,2,3,3,3,4,4,4,1,1,1,2,2,2,3,3,3,4,4,4,1,1,1,2,2,2,3,3,3,4,4,4,1,1,1,2,2,2,3,3,3,4,4,4,1,1,1,2,2,2,3,3,3,4,4,4,1,1,1,2,2,2,3,3,3,4,4,4,1,1,1,2,2,2,3,3,3,4,4,4,1,1,1,2,2,2,3,3,3,4,4,4,1,1,1,2,2,2,3,3,3,4],\"x0\":\" \",\"xaxis\":\"x\",\"y\":[2.91,2.97,2.96,3.15,3.08,3.01,3.0,2.99,2.98,3.11,3.03,3.03,2.96,2.89,2.81,2.62,2.68,2.67,2.66,2.6,2.65,2.52,2.58,2.64,2.5,2.5,2.43,2.61,2.55,2.42,2.41,2.29,2.22,2.28,2.15,2.27,2.26,2.26,2.26,2.13,2.19,2.24,2.24,2.47,2.35,2.23,2.34,2.45,2.33,2.15,2.03,2.2,2.08,1.96,2.07,1.9,2.07,2.12,2.06,1.88,2.11,2.16,2.45,2.27,2.38,2.55,2.48,2.59,2.53,2.53,2.63,2.57,2.57,2.79,2.61,2.66,2.55,2.71,2.7,2.64,2.63,2.63,2.73,2.78,2.61,2.55,2.44,2.49,2.54,2.26,2.2,2.36,2.24,2.19,2.02,1.96,1.96,1.8,1.74,1.48,1.53,1.47,1.52,1.31,1.25,1.31,1.09,1.09,1.14,1.25,1.56,1.77,1.71,1.87,1.76,1.7,1.96,2.01,2.22,2.27,2.26,2.31,2.35,2.19,2.19,2.03,2.08,2.13,1.92,2.07,2.12,2.11,2.11,2.11,2.1,2.3,2.44,2.64,2.69,2.83,2.93,2.77,2.62,2.61,2.66,2.72,2.51,2.42,2.27,2.18,2.17,2.09,2.1,2.16,2.34,2.44,2.48,2.3,2.39,2.29,2.32,2.39,2.46,2.5,2.44,2.22,2.02,1.76,1.67,1.8,1.79,1.93,1.85,1.71,1.53,1.43,1.48,1.71,1.71,1.82,1.51,1.35,1.16,0.97,0.94,0.95,0.96,0.92,0.81,0.6,0.67,0.66,0.98,1.12,1.21,1.32,1.45,1.58,1.74,1.97,1.99,2.11,2.14,2.28,2.28,2.16,2.25,2.31,2.25,2.19,2.11,1.94,2.01,1.99,1.95,1.9,1.91,1.99,1.89,1.72,1.65,1.62,1.7,1.78,1.75,1.69,1.74,1.74,1.61,1.55,1.65,1.82,1.95,1.92,1.84,1.74,1.74,1.82,1.74,1.62,1.63,1.69,1.75,1.8,1.75,1.78,1.83,1.85,1.9,1.91,2.0,2.07,2.15,2.22,2.14,2.16,2.25,2.26,2.17,2.31,2.27,2.2,2.15,2.2,2.25,2.2,2.0,1.91,1.76,1.73,1.7,1.68,1.69,1.76,1.71,1.76,1.81,1.82,2.11,2.15,2.25,2.27,2.33,2.17,2.17,2.15,2.23,2.19,2.12,2.06,2.04,2.1,2.03,2.17,2.2,2.35,2.35,2.33,2.32,2.22,2.26,2.36,2.1,1.44,1.24,1.2,1.56,1.7,1.72,1.63,1.65,1.61,1.4,1.28,1.65,2.96,3.8,4.45,4.23,3.98,4.04,4.58],\"y0\":\" \",\"yaxis\":\"y\",\"type\":\"box\"}],                        {\"template\":{\"data\":{\"pie\":[{\"automargin\":true,\"type\":\"pie\"}],\"scatter3d\":[{\"line\":{\"width\":3},\"marker\":{\"size\":9},\"type\":\"scatter3d\"}],\"scattergeo\":[{\"line\":{\"width\":3},\"marker\":{\"size\":9},\"type\":\"scattergeo\"}],\"scattergl\":[{\"line\":{\"width\":3},\"marker\":{\"size\":9},\"type\":\"scattergl\"}],\"scatterpolargl\":[{\"line\":{\"width\":3},\"marker\":{\"size\":9},\"type\":\"scatterpolargl\"}],\"scatterpolar\":[{\"line\":{\"width\":3},\"marker\":{\"size\":9},\"type\":\"scatterpolar\"}],\"scatter\":[{\"line\":{\"width\":3},\"marker\":{\"size\":9},\"type\":\"scatter\"}],\"scatterternary\":[{\"line\":{\"width\":3},\"marker\":{\"size\":9},\"type\":\"scatterternary\"}],\"table\":[{\"cells\":{\"height\":30},\"header\":{\"height\":36},\"type\":\"table\"}]},\"layout\":{\"font\":{\"size\":18},\"xaxis\":{\"title\":{\"standoff\":15}},\"yaxis\":{\"title\":{\"standoff\":15}}}},\"xaxis\":{\"anchor\":\"y\",\"domain\":[0.0,1.0],\"title\":{\"text\":\"quarter\"}},\"yaxis\":{\"anchor\":\"x\",\"domain\":[0.0,1.0],\"title\":{\"text\":\"cpi_pct_yoy\"}},\"legend\":{\"tracegroupgap\":0},\"margin\":{\"t\":60},\"boxmode\":\"group\"},                        {\"responsive\": true}                    ).then(function(){\n",
              "                            \n",
              "var gd = document.getElementById('fa800a15-9b77-481a-991e-8da972d6b6b6');\n",
              "var x = new MutationObserver(function (mutations, observer) {{\n",
              "        var display = window.getComputedStyle(gd).display;\n",
              "        if (!display || display === 'none') {{\n",
              "            console.log([gd, 'removed!']);\n",
              "            Plotly.purge(gd);\n",
              "            observer.disconnect();\n",
              "        }}\n",
              "}});\n",
              "\n",
              "// Listen for the removal of the full notebook cells\n",
              "var notebookContainer = gd.closest('#notebook-container');\n",
              "if (notebookContainer) {{\n",
              "    x.observe(notebookContainer, {childList: true});\n",
              "}}\n",
              "\n",
              "// Listen for the clearing of the current output cell\n",
              "var outputEl = gd.closest('.output');\n",
              "if (outputEl) {{\n",
              "    x.observe(outputEl, {childList: true});\n",
              "}}\n",
              "\n",
              "                        })                };                });            </script>        </div>"
            ]
          },
          "metadata": {},
          "output_type": "display_data"
        }
      ],
      "source": [
        "fig = px.box(monthly_df[12:], x=\"month\", y=\"cpi_pct_yoy\", points = \"all\", template = \"presentation\",)\n",
        "fig.update_layout(\n",
        "    xaxis = dict(\n",
        "        tickmode = 'linear',))\n",
        "\n",
        "fig = px.box(monthly_df[12:], x=\"quarter\", y=\"cpi_pct_yoy\", points = \"all\", template = \"presentation\")\n",
        "\n",
        "fig.show()"
      ]
    },
    {
      "cell_type": "markdown",
      "metadata": {
        "id": "I1phIiPnKE0h"
      },
      "source": [
        "Si l'on examine la variation de l'IPC de base sur une base annualisée, on constate que les premières parties de l'année ont connu des augmentations plus importantes de l'IPC de base. Au cours des derniers mois, il y a plus de valeurs aberrantes (sous les moustaches inférieures), ce qui signifie qu'il y a eu peu de changement par rapport à l'année précédente. Nous pouvons explorer davantage la volatilité de la variation de l'IPC de base en glissement annuel."
      ]
    },
    {
      "cell_type": "code",
      "execution_count": null,
      "metadata": {
        "execution": {
          "iopub.execute_input": "2022-01-09T06:00:55.735204Z",
          "iopub.status.busy": "2022-01-09T06:00:55.734960Z",
          "iopub.status.idle": "2022-01-09T06:00:55.873175Z",
          "shell.execute_reply": "2022-01-09T06:00:55.872356Z",
          "shell.execute_reply.started": "2022-01-09T06:00:55.735173Z"
        },
        "id": "svUO8MNXKE0i",
        "outputId": "9ab020ef-4a1a-4ccb-d0f8-7fa803b756df"
      },
      "outputs": [
        {
          "data": {
            "application/vnd.plotly.v1+json": {
              "config": {
                "plotlyServerURL": "https://plot.ly"
              },
              "data": [
                {
                  "alignmentgroup": "True",
                  "hovertemplate": "month=%{x}<br>cpi_pct_yoy=%{text}<extra></extra>",
                  "legendgroup": "",
                  "marker": {
                    "color": "#636efa",
                    "pattern": {
                      "shape": ""
                    }
                  },
                  "name": "",
                  "offsetgroup": "",
                  "orientation": "v",
                  "showlegend": false,
                  "text": [
                    0.6293231435817526,
                    0.628736870964359,
                    0.5837060034064223,
                    0.6272222925190114,
                    0.6944542221533877,
                    0.7644193252148357,
                    0.7252852020678654,
                    0.7172732759422675,
                    0.7239042988285357,
                    0.7812209782969327,
                    0.6280354209982827,
                    0.6414802148912045
                  ],
                  "textposition": "outside",
                  "texttemplate": "%{text:0.3f}",
                  "type": "bar",
                  "x": [
                    1,
                    2,
                    3,
                    4,
                    5,
                    6,
                    7,
                    8,
                    9,
                    10,
                    11,
                    12
                  ],
                  "xaxis": "x",
                  "y": [
                    0.6293231435817526,
                    0.628736870964359,
                    0.5837060034064223,
                    0.6272222925190114,
                    0.6944542221533877,
                    0.7644193252148357,
                    0.7252852020678654,
                    0.7172732759422675,
                    0.7239042988285357,
                    0.7812209782969327,
                    0.6280354209982827,
                    0.6414802148912045
                  ],
                  "yaxis": "y"
                }
              ],
              "layout": {
                "autosize": true,
                "barmode": "relative",
                "legend": {
                  "tracegroupgap": 0
                },
                "margin": {
                  "t": 60
                },
                "template": {
                  "data": {
                    "bar": [
                      {
                        "error_x": {
                          "color": "#2a3f5f"
                        },
                        "error_y": {
                          "color": "#2a3f5f"
                        },
                        "marker": {
                          "line": {
                            "color": "#E5ECF6",
                            "width": 0.5
                          },
                          "pattern": {
                            "fillmode": "overlay",
                            "size": 10,
                            "solidity": 0.2
                          }
                        },
                        "type": "bar"
                      }
                    ],
                    "barpolar": [
                      {
                        "marker": {
                          "line": {
                            "color": "#E5ECF6",
                            "width": 0.5
                          },
                          "pattern": {
                            "fillmode": "overlay",
                            "size": 10,
                            "solidity": 0.2
                          }
                        },
                        "type": "barpolar"
                      }
                    ],
                    "carpet": [
                      {
                        "aaxis": {
                          "endlinecolor": "#2a3f5f",
                          "gridcolor": "white",
                          "linecolor": "white",
                          "minorgridcolor": "white",
                          "startlinecolor": "#2a3f5f"
                        },
                        "baxis": {
                          "endlinecolor": "#2a3f5f",
                          "gridcolor": "white",
                          "linecolor": "white",
                          "minorgridcolor": "white",
                          "startlinecolor": "#2a3f5f"
                        },
                        "type": "carpet"
                      }
                    ],
                    "choropleth": [
                      {
                        "colorbar": {
                          "outlinewidth": 0,
                          "ticks": ""
                        },
                        "type": "choropleth"
                      }
                    ],
                    "contour": [
                      {
                        "colorbar": {
                          "outlinewidth": 0,
                          "ticks": ""
                        },
                        "colorscale": [
                          [
                            0,
                            "#0d0887"
                          ],
                          [
                            0.1111111111111111,
                            "#46039f"
                          ],
                          [
                            0.2222222222222222,
                            "#7201a8"
                          ],
                          [
                            0.3333333333333333,
                            "#9c179e"
                          ],
                          [
                            0.4444444444444444,
                            "#bd3786"
                          ],
                          [
                            0.5555555555555556,
                            "#d8576b"
                          ],
                          [
                            0.6666666666666666,
                            "#ed7953"
                          ],
                          [
                            0.7777777777777778,
                            "#fb9f3a"
                          ],
                          [
                            0.8888888888888888,
                            "#fdca26"
                          ],
                          [
                            1,
                            "#f0f921"
                          ]
                        ],
                        "type": "contour"
                      }
                    ],
                    "contourcarpet": [
                      {
                        "colorbar": {
                          "outlinewidth": 0,
                          "ticks": ""
                        },
                        "type": "contourcarpet"
                      }
                    ],
                    "heatmap": [
                      {
                        "colorbar": {
                          "outlinewidth": 0,
                          "ticks": ""
                        },
                        "colorscale": [
                          [
                            0,
                            "#0d0887"
                          ],
                          [
                            0.1111111111111111,
                            "#46039f"
                          ],
                          [
                            0.2222222222222222,
                            "#7201a8"
                          ],
                          [
                            0.3333333333333333,
                            "#9c179e"
                          ],
                          [
                            0.4444444444444444,
                            "#bd3786"
                          ],
                          [
                            0.5555555555555556,
                            "#d8576b"
                          ],
                          [
                            0.6666666666666666,
                            "#ed7953"
                          ],
                          [
                            0.7777777777777778,
                            "#fb9f3a"
                          ],
                          [
                            0.8888888888888888,
                            "#fdca26"
                          ],
                          [
                            1,
                            "#f0f921"
                          ]
                        ],
                        "type": "heatmap"
                      }
                    ],
                    "heatmapgl": [
                      {
                        "colorbar": {
                          "outlinewidth": 0,
                          "ticks": ""
                        },
                        "colorscale": [
                          [
                            0,
                            "#0d0887"
                          ],
                          [
                            0.1111111111111111,
                            "#46039f"
                          ],
                          [
                            0.2222222222222222,
                            "#7201a8"
                          ],
                          [
                            0.3333333333333333,
                            "#9c179e"
                          ],
                          [
                            0.4444444444444444,
                            "#bd3786"
                          ],
                          [
                            0.5555555555555556,
                            "#d8576b"
                          ],
                          [
                            0.6666666666666666,
                            "#ed7953"
                          ],
                          [
                            0.7777777777777778,
                            "#fb9f3a"
                          ],
                          [
                            0.8888888888888888,
                            "#fdca26"
                          ],
                          [
                            1,
                            "#f0f921"
                          ]
                        ],
                        "type": "heatmapgl"
                      }
                    ],
                    "histogram": [
                      {
                        "marker": {
                          "pattern": {
                            "fillmode": "overlay",
                            "size": 10,
                            "solidity": 0.2
                          }
                        },
                        "type": "histogram"
                      }
                    ],
                    "histogram2d": [
                      {
                        "colorbar": {
                          "outlinewidth": 0,
                          "ticks": ""
                        },
                        "colorscale": [
                          [
                            0,
                            "#0d0887"
                          ],
                          [
                            0.1111111111111111,
                            "#46039f"
                          ],
                          [
                            0.2222222222222222,
                            "#7201a8"
                          ],
                          [
                            0.3333333333333333,
                            "#9c179e"
                          ],
                          [
                            0.4444444444444444,
                            "#bd3786"
                          ],
                          [
                            0.5555555555555556,
                            "#d8576b"
                          ],
                          [
                            0.6666666666666666,
                            "#ed7953"
                          ],
                          [
                            0.7777777777777778,
                            "#fb9f3a"
                          ],
                          [
                            0.8888888888888888,
                            "#fdca26"
                          ],
                          [
                            1,
                            "#f0f921"
                          ]
                        ],
                        "type": "histogram2d"
                      }
                    ],
                    "histogram2dcontour": [
                      {
                        "colorbar": {
                          "outlinewidth": 0,
                          "ticks": ""
                        },
                        "colorscale": [
                          [
                            0,
                            "#0d0887"
                          ],
                          [
                            0.1111111111111111,
                            "#46039f"
                          ],
                          [
                            0.2222222222222222,
                            "#7201a8"
                          ],
                          [
                            0.3333333333333333,
                            "#9c179e"
                          ],
                          [
                            0.4444444444444444,
                            "#bd3786"
                          ],
                          [
                            0.5555555555555556,
                            "#d8576b"
                          ],
                          [
                            0.6666666666666666,
                            "#ed7953"
                          ],
                          [
                            0.7777777777777778,
                            "#fb9f3a"
                          ],
                          [
                            0.8888888888888888,
                            "#fdca26"
                          ],
                          [
                            1,
                            "#f0f921"
                          ]
                        ],
                        "type": "histogram2dcontour"
                      }
                    ],
                    "mesh3d": [
                      {
                        "colorbar": {
                          "outlinewidth": 0,
                          "ticks": ""
                        },
                        "type": "mesh3d"
                      }
                    ],
                    "parcoords": [
                      {
                        "line": {
                          "colorbar": {
                            "outlinewidth": 0,
                            "ticks": ""
                          }
                        },
                        "type": "parcoords"
                      }
                    ],
                    "pie": [
                      {
                        "automargin": true,
                        "type": "pie"
                      }
                    ],
                    "scatter": [
                      {
                        "marker": {
                          "colorbar": {
                            "outlinewidth": 0,
                            "ticks": ""
                          }
                        },
                        "type": "scatter"
                      }
                    ],
                    "scatter3d": [
                      {
                        "line": {
                          "colorbar": {
                            "outlinewidth": 0,
                            "ticks": ""
                          }
                        },
                        "marker": {
                          "colorbar": {
                            "outlinewidth": 0,
                            "ticks": ""
                          }
                        },
                        "type": "scatter3d"
                      }
                    ],
                    "scattercarpet": [
                      {
                        "marker": {
                          "colorbar": {
                            "outlinewidth": 0,
                            "ticks": ""
                          }
                        },
                        "type": "scattercarpet"
                      }
                    ],
                    "scattergeo": [
                      {
                        "marker": {
                          "colorbar": {
                            "outlinewidth": 0,
                            "ticks": ""
                          }
                        },
                        "type": "scattergeo"
                      }
                    ],
                    "scattergl": [
                      {
                        "marker": {
                          "colorbar": {
                            "outlinewidth": 0,
                            "ticks": ""
                          }
                        },
                        "type": "scattergl"
                      }
                    ],
                    "scattermapbox": [
                      {
                        "marker": {
                          "colorbar": {
                            "outlinewidth": 0,
                            "ticks": ""
                          }
                        },
                        "type": "scattermapbox"
                      }
                    ],
                    "scatterpolar": [
                      {
                        "marker": {
                          "colorbar": {
                            "outlinewidth": 0,
                            "ticks": ""
                          }
                        },
                        "type": "scatterpolar"
                      }
                    ],
                    "scatterpolargl": [
                      {
                        "marker": {
                          "colorbar": {
                            "outlinewidth": 0,
                            "ticks": ""
                          }
                        },
                        "type": "scatterpolargl"
                      }
                    ],
                    "scatterternary": [
                      {
                        "marker": {
                          "colorbar": {
                            "outlinewidth": 0,
                            "ticks": ""
                          }
                        },
                        "type": "scatterternary"
                      }
                    ],
                    "surface": [
                      {
                        "colorbar": {
                          "outlinewidth": 0,
                          "ticks": ""
                        },
                        "colorscale": [
                          [
                            0,
                            "#0d0887"
                          ],
                          [
                            0.1111111111111111,
                            "#46039f"
                          ],
                          [
                            0.2222222222222222,
                            "#7201a8"
                          ],
                          [
                            0.3333333333333333,
                            "#9c179e"
                          ],
                          [
                            0.4444444444444444,
                            "#bd3786"
                          ],
                          [
                            0.5555555555555556,
                            "#d8576b"
                          ],
                          [
                            0.6666666666666666,
                            "#ed7953"
                          ],
                          [
                            0.7777777777777778,
                            "#fb9f3a"
                          ],
                          [
                            0.8888888888888888,
                            "#fdca26"
                          ],
                          [
                            1,
                            "#f0f921"
                          ]
                        ],
                        "type": "surface"
                      }
                    ],
                    "table": [
                      {
                        "cells": {
                          "fill": {
                            "color": "#EBF0F8"
                          },
                          "line": {
                            "color": "white"
                          }
                        },
                        "header": {
                          "fill": {
                            "color": "#C8D4E3"
                          },
                          "line": {
                            "color": "white"
                          }
                        },
                        "type": "table"
                      }
                    ]
                  },
                  "layout": {
                    "annotationdefaults": {
                      "arrowcolor": "#2a3f5f",
                      "arrowhead": 0,
                      "arrowwidth": 1
                    },
                    "autotypenumbers": "strict",
                    "coloraxis": {
                      "colorbar": {
                        "outlinewidth": 0,
                        "ticks": ""
                      }
                    },
                    "colorscale": {
                      "diverging": [
                        [
                          0,
                          "#8e0152"
                        ],
                        [
                          0.1,
                          "#c51b7d"
                        ],
                        [
                          0.2,
                          "#de77ae"
                        ],
                        [
                          0.3,
                          "#f1b6da"
                        ],
                        [
                          0.4,
                          "#fde0ef"
                        ],
                        [
                          0.5,
                          "#f7f7f7"
                        ],
                        [
                          0.6,
                          "#e6f5d0"
                        ],
                        [
                          0.7,
                          "#b8e186"
                        ],
                        [
                          0.8,
                          "#7fbc41"
                        ],
                        [
                          0.9,
                          "#4d9221"
                        ],
                        [
                          1,
                          "#276419"
                        ]
                      ],
                      "sequential": [
                        [
                          0,
                          "#0d0887"
                        ],
                        [
                          0.1111111111111111,
                          "#46039f"
                        ],
                        [
                          0.2222222222222222,
                          "#7201a8"
                        ],
                        [
                          0.3333333333333333,
                          "#9c179e"
                        ],
                        [
                          0.4444444444444444,
                          "#bd3786"
                        ],
                        [
                          0.5555555555555556,
                          "#d8576b"
                        ],
                        [
                          0.6666666666666666,
                          "#ed7953"
                        ],
                        [
                          0.7777777777777778,
                          "#fb9f3a"
                        ],
                        [
                          0.8888888888888888,
                          "#fdca26"
                        ],
                        [
                          1,
                          "#f0f921"
                        ]
                      ],
                      "sequentialminus": [
                        [
                          0,
                          "#0d0887"
                        ],
                        [
                          0.1111111111111111,
                          "#46039f"
                        ],
                        [
                          0.2222222222222222,
                          "#7201a8"
                        ],
                        [
                          0.3333333333333333,
                          "#9c179e"
                        ],
                        [
                          0.4444444444444444,
                          "#bd3786"
                        ],
                        [
                          0.5555555555555556,
                          "#d8576b"
                        ],
                        [
                          0.6666666666666666,
                          "#ed7953"
                        ],
                        [
                          0.7777777777777778,
                          "#fb9f3a"
                        ],
                        [
                          0.8888888888888888,
                          "#fdca26"
                        ],
                        [
                          1,
                          "#f0f921"
                        ]
                      ]
                    },
                    "colorway": [
                      "#636efa",
                      "#EF553B",
                      "#00cc96",
                      "#ab63fa",
                      "#FFA15A",
                      "#19d3f3",
                      "#FF6692",
                      "#B6E880",
                      "#FF97FF",
                      "#FECB52"
                    ],
                    "font": {
                      "color": "#2a3f5f"
                    },
                    "geo": {
                      "bgcolor": "white",
                      "lakecolor": "white",
                      "landcolor": "#E5ECF6",
                      "showlakes": true,
                      "showland": true,
                      "subunitcolor": "white"
                    },
                    "hoverlabel": {
                      "align": "left"
                    },
                    "hovermode": "closest",
                    "mapbox": {
                      "style": "light"
                    },
                    "paper_bgcolor": "white",
                    "plot_bgcolor": "#E5ECF6",
                    "polar": {
                      "angularaxis": {
                        "gridcolor": "white",
                        "linecolor": "white",
                        "ticks": ""
                      },
                      "bgcolor": "#E5ECF6",
                      "radialaxis": {
                        "gridcolor": "white",
                        "linecolor": "white",
                        "ticks": ""
                      }
                    },
                    "scene": {
                      "xaxis": {
                        "backgroundcolor": "#E5ECF6",
                        "gridcolor": "white",
                        "gridwidth": 2,
                        "linecolor": "white",
                        "showbackground": true,
                        "ticks": "",
                        "zerolinecolor": "white"
                      },
                      "yaxis": {
                        "backgroundcolor": "#E5ECF6",
                        "gridcolor": "white",
                        "gridwidth": 2,
                        "linecolor": "white",
                        "showbackground": true,
                        "ticks": "",
                        "zerolinecolor": "white"
                      },
                      "zaxis": {
                        "backgroundcolor": "#E5ECF6",
                        "gridcolor": "white",
                        "gridwidth": 2,
                        "linecolor": "white",
                        "showbackground": true,
                        "ticks": "",
                        "zerolinecolor": "white"
                      }
                    },
                    "shapedefaults": {
                      "line": {
                        "color": "#2a3f5f"
                      }
                    },
                    "ternary": {
                      "aaxis": {
                        "gridcolor": "white",
                        "linecolor": "white",
                        "ticks": ""
                      },
                      "baxis": {
                        "gridcolor": "white",
                        "linecolor": "white",
                        "ticks": ""
                      },
                      "bgcolor": "#E5ECF6",
                      "caxis": {
                        "gridcolor": "white",
                        "linecolor": "white",
                        "ticks": ""
                      }
                    },
                    "title": {
                      "x": 0.05
                    },
                    "xaxis": {
                      "automargin": true,
                      "gridcolor": "white",
                      "linecolor": "white",
                      "ticks": "",
                      "title": {
                        "standoff": 15
                      },
                      "zerolinecolor": "white",
                      "zerolinewidth": 2
                    },
                    "yaxis": {
                      "automargin": true,
                      "gridcolor": "white",
                      "linecolor": "white",
                      "ticks": "",
                      "title": {
                        "standoff": 15
                      },
                      "zerolinecolor": "white",
                      "zerolinewidth": 2
                    }
                  }
                },
                "xaxis": {
                  "anchor": "y",
                  "autorange": true,
                  "domain": [
                    0,
                    1
                  ],
                  "nticks": 13,
                  "range": [
                    0.5,
                    12.5
                  ],
                  "title": {
                    "text": "month"
                  },
                  "type": "linear"
                },
                "yaxis": {
                  "anchor": "x",
                  "autorange": true,
                  "domain": [
                    0,
                    1
                  ],
                  "range": [
                    0,
                    0.8223378718915081
                  ],
                  "title": {
                    "text": "cpi_pct_yoy"
                  },
                  "type": "linear"
                }
              }
            },
            "image/png": "[encoded data removed]",
            "text/html": [
              "<div>                            <div id=\"4d9d6b28-0102-4d51-8de7-e67040ebdc1d\" class=\"plotly-graph-div\" style=\"height:525px; width:100%;\"></div>            <script type=\"text/javascript\">                require([\"plotly\"], function(Plotly) {                    window.PLOTLYENV=window.PLOTLYENV || {};                                    if (document.getElementById(\"4d9d6b28-0102-4d51-8de7-e67040ebdc1d\")) {                    Plotly.newPlot(                        \"4d9d6b28-0102-4d51-8de7-e67040ebdc1d\",                        [{\"alignmentgroup\":\"True\",\"hovertemplate\":\"month=%{x}<br>cpi_pct_yoy=%{text}<extra></extra>\",\"legendgroup\":\"\",\"marker\":{\"color\":\"#636efa\",\"pattern\":{\"shape\":\"\"}},\"name\":\"\",\"offsetgroup\":\"\",\"orientation\":\"v\",\"showlegend\":false,\"text\":[0.6293231435817526,0.628736870964359,0.5837060034064223,0.6272222925190114,0.6944542221533877,0.7644193252148357,0.7252852020678654,0.7172732759422675,0.7239042988285357,0.7812209782969327,0.6280354209982827,0.6414802148912045],\"textposition\":\"outside\",\"x\":[1,2,3,4,5,6,7,8,9,10,11,12],\"xaxis\":\"x\",\"y\":[0.6293231435817526,0.628736870964359,0.5837060034064223,0.6272222925190114,0.6944542221533877,0.7644193252148357,0.7252852020678654,0.7172732759422675,0.7239042988285357,0.7812209782969327,0.6280354209982827,0.6414802148912045],\"yaxis\":\"y\",\"type\":\"bar\",\"texttemplate\":\"%{text:0.3f}\"}],                        {\"template\":{\"data\":{\"bar\":[{\"error_x\":{\"color\":\"#2a3f5f\"},\"error_y\":{\"color\":\"#2a3f5f\"},\"marker\":{\"line\":{\"color\":\"#E5ECF6\",\"width\":0.5},\"pattern\":{\"fillmode\":\"overlay\",\"size\":10,\"solidity\":0.2}},\"type\":\"bar\"}],\"barpolar\":[{\"marker\":{\"line\":{\"color\":\"#E5ECF6\",\"width\":0.5},\"pattern\":{\"fillmode\":\"overlay\",\"size\":10,\"solidity\":0.2}},\"type\":\"barpolar\"}],\"carpet\":[{\"aaxis\":{\"endlinecolor\":\"#2a3f5f\",\"gridcolor\":\"white\",\"linecolor\":\"white\",\"minorgridcolor\":\"white\",\"startlinecolor\":\"#2a3f5f\"},\"baxis\":{\"endlinecolor\":\"#2a3f5f\",\"gridcolor\":\"white\",\"linecolor\":\"white\",\"minorgridcolor\":\"white\",\"startlinecolor\":\"#2a3f5f\"},\"type\":\"carpet\"}],\"choropleth\":[{\"colorbar\":{\"outlinewidth\":0,\"ticks\":\"\"},\"type\":\"choropleth\"}],\"contour\":[{\"colorbar\":{\"outlinewidth\":0,\"ticks\":\"\"},\"colorscale\":[[0.0,\"#0d0887\"],[0.1111111111111111,\"#46039f\"],[0.2222222222222222,\"#7201a8\"],[0.3333333333333333,\"#9c179e\"],[0.4444444444444444,\"#bd3786\"],[0.5555555555555556,\"#d8576b\"],[0.6666666666666666,\"#ed7953\"],[0.7777777777777778,\"#fb9f3a\"],[0.8888888888888888,\"#fdca26\"],[1.0,\"#f0f921\"]],\"type\":\"contour\"}],\"contourcarpet\":[{\"colorbar\":{\"outlinewidth\":0,\"ticks\":\"\"},\"type\":\"contourcarpet\"}],\"heatmap\":[{\"colorbar\":{\"outlinewidth\":0,\"ticks\":\"\"},\"colorscale\":[[0.0,\"#0d0887\"],[0.1111111111111111,\"#46039f\"],[0.2222222222222222,\"#7201a8\"],[0.3333333333333333,\"#9c179e\"],[0.4444444444444444,\"#bd3786\"],[0.5555555555555556,\"#d8576b\"],[0.6666666666666666,\"#ed7953\"],[0.7777777777777778,\"#fb9f3a\"],[0.8888888888888888,\"#fdca26\"],[1.0,\"#f0f921\"]],\"type\":\"heatmap\"}],\"heatmapgl\":[{\"colorbar\":{\"outlinewidth\":0,\"ticks\":\"\"},\"colorscale\":[[0.0,\"#0d0887\"],[0.1111111111111111,\"#46039f\"],[0.2222222222222222,\"#7201a8\"],[0.3333333333333333,\"#9c179e\"],[0.4444444444444444,\"#bd3786\"],[0.5555555555555556,\"#d8576b\"],[0.6666666666666666,\"#ed7953\"],[0.7777777777777778,\"#fb9f3a\"],[0.8888888888888888,\"#fdca26\"],[1.0,\"#f0f921\"]],\"type\":\"heatmapgl\"}],\"histogram\":[{\"marker\":{\"pattern\":{\"fillmode\":\"overlay\",\"size\":10,\"solidity\":0.2}},\"type\":\"histogram\"}],\"histogram2d\":[{\"colorbar\":{\"outlinewidth\":0,\"ticks\":\"\"},\"colorscale\":[[0.0,\"#0d0887\"],[0.1111111111111111,\"#46039f\"],[0.2222222222222222,\"#7201a8\"],[0.3333333333333333,\"#9c179e\"],[0.4444444444444444,\"#bd3786\"],[0.5555555555555556,\"#d8576b\"],[0.6666666666666666,\"#ed7953\"],[0.7777777777777778,\"#fb9f3a\"],[0.8888888888888888,\"#fdca26\"],[1.0,\"#f0f921\"]],\"type\":\"histogram2d\"}],\"histogram2dcontour\":[{\"colorbar\":{\"outlinewidth\":0,\"ticks\":\"\"},\"colorscale\":[[0.0,\"#0d0887\"],[0.1111111111111111,\"#46039f\"],[0.2222222222222222,\"#7201a8\"],[0.3333333333333333,\"#9c179e\"],[0.4444444444444444,\"#bd3786\"],[0.5555555555555556,\"#d8576b\"],[0.6666666666666666,\"#ed7953\"],[0.7777777777777778,\"#fb9f3a\"],[0.8888888888888888,\"#fdca26\"],[1.0,\"#f0f921\"]],\"type\":\"histogram2dcontour\"}],\"mesh3d\":[{\"colorbar\":{\"outlinewidth\":0,\"ticks\":\"\"},\"type\":\"mesh3d\"}],\"parcoords\":[{\"line\":{\"colorbar\":{\"outlinewidth\":0,\"ticks\":\"\"}},\"type\":\"parcoords\"}],\"pie\":[{\"automargin\":true,\"type\":\"pie\"}],\"scatter\":[{\"marker\":{\"colorbar\":{\"outlinewidth\":0,\"ticks\":\"\"}},\"type\":\"scatter\"}],\"scatter3d\":[{\"line\":{\"colorbar\":{\"outlinewidth\":0,\"ticks\":\"\"}},\"marker\":{\"colorbar\":{\"outlinewidth\":0,\"ticks\":\"\"}},\"type\":\"scatter3d\"}],\"scattercarpet\":[{\"marker\":{\"colorbar\":{\"outlinewidth\":0,\"ticks\":\"\"}},\"type\":\"scattercarpet\"}],\"scattergeo\":[{\"marker\":{\"colorbar\":{\"outlinewidth\":0,\"ticks\":\"\"}},\"type\":\"scattergeo\"}],\"scattergl\":[{\"marker\":{\"colorbar\":{\"outlinewidth\":0,\"ticks\":\"\"}},\"type\":\"scattergl\"}],\"scattermapbox\":[{\"marker\":{\"colorbar\":{\"outlinewidth\":0,\"ticks\":\"\"}},\"type\":\"scattermapbox\"}],\"scatterpolar\":[{\"marker\":{\"colorbar\":{\"outlinewidth\":0,\"ticks\":\"\"}},\"type\":\"scatterpolar\"}],\"scatterpolargl\":[{\"marker\":{\"colorbar\":{\"outlinewidth\":0,\"ticks\":\"\"}},\"type\":\"scatterpolargl\"}],\"scatterternary\":[{\"marker\":{\"colorbar\":{\"outlinewidth\":0,\"ticks\":\"\"}},\"type\":\"scatterternary\"}],\"surface\":[{\"colorbar\":{\"outlinewidth\":0,\"ticks\":\"\"},\"colorscale\":[[0.0,\"#0d0887\"],[0.1111111111111111,\"#46039f\"],[0.2222222222222222,\"#7201a8\"],[0.3333333333333333,\"#9c179e\"],[0.4444444444444444,\"#bd3786\"],[0.5555555555555556,\"#d8576b\"],[0.6666666666666666,\"#ed7953\"],[0.7777777777777778,\"#fb9f3a\"],[0.8888888888888888,\"#fdca26\"],[1.0,\"#f0f921\"]],\"type\":\"surface\"}],\"table\":[{\"cells\":{\"fill\":{\"color\":\"#EBF0F8\"},\"line\":{\"color\":\"white\"}},\"header\":{\"fill\":{\"color\":\"#C8D4E3\"},\"line\":{\"color\":\"white\"}},\"type\":\"table\"}]},\"layout\":{\"annotationdefaults\":{\"arrowcolor\":\"#2a3f5f\",\"arrowhead\":0,\"arrowwidth\":1},\"autotypenumbers\":\"strict\",\"coloraxis\":{\"colorbar\":{\"outlinewidth\":0,\"ticks\":\"\"}},\"colorscale\":{\"diverging\":[[0,\"#8e0152\"],[0.1,\"#c51b7d\"],[0.2,\"#de77ae\"],[0.3,\"#f1b6da\"],[0.4,\"#fde0ef\"],[0.5,\"#f7f7f7\"],[0.6,\"#e6f5d0\"],[0.7,\"#b8e186\"],[0.8,\"#7fbc41\"],[0.9,\"#4d9221\"],[1,\"#276419\"]],\"sequential\":[[0.0,\"#0d0887\"],[0.1111111111111111,\"#46039f\"],[0.2222222222222222,\"#7201a8\"],[0.3333333333333333,\"#9c179e\"],[0.4444444444444444,\"#bd3786\"],[0.5555555555555556,\"#d8576b\"],[0.6666666666666666,\"#ed7953\"],[0.7777777777777778,\"#fb9f3a\"],[0.8888888888888888,\"#fdca26\"],[1.0,\"#f0f921\"]],\"sequentialminus\":[[0.0,\"#0d0887\"],[0.1111111111111111,\"#46039f\"],[0.2222222222222222,\"#7201a8\"],[0.3333333333333333,\"#9c179e\"],[0.4444444444444444,\"#bd3786\"],[0.5555555555555556,\"#d8576b\"],[0.6666666666666666,\"#ed7953\"],[0.7777777777777778,\"#fb9f3a\"],[0.8888888888888888,\"#fdca26\"],[1.0,\"#f0f921\"]]},\"colorway\":[\"#636efa\",\"#EF553B\",\"#00cc96\",\"#ab63fa\",\"#FFA15A\",\"#19d3f3\",\"#FF6692\",\"#B6E880\",\"#FF97FF\",\"#FECB52\"],\"font\":{\"color\":\"#2a3f5f\"},\"geo\":{\"bgcolor\":\"white\",\"lakecolor\":\"white\",\"landcolor\":\"#E5ECF6\",\"showlakes\":true,\"showland\":true,\"subunitcolor\":\"white\"},\"hoverlabel\":{\"align\":\"left\"},\"hovermode\":\"closest\",\"mapbox\":{\"style\":\"light\"},\"paper_bgcolor\":\"white\",\"plot_bgcolor\":\"#E5ECF6\",\"polar\":{\"angularaxis\":{\"gridcolor\":\"white\",\"linecolor\":\"white\",\"ticks\":\"\"},\"bgcolor\":\"#E5ECF6\",\"radialaxis\":{\"gridcolor\":\"white\",\"linecolor\":\"white\",\"ticks\":\"\"}},\"scene\":{\"xaxis\":{\"backgroundcolor\":\"#E5ECF6\",\"gridcolor\":\"white\",\"gridwidth\":2,\"linecolor\":\"white\",\"showbackground\":true,\"ticks\":\"\",\"zerolinecolor\":\"white\"},\"yaxis\":{\"backgroundcolor\":\"#E5ECF6\",\"gridcolor\":\"white\",\"gridwidth\":2,\"linecolor\":\"white\",\"showbackground\":true,\"ticks\":\"\",\"zerolinecolor\":\"white\"},\"zaxis\":{\"backgroundcolor\":\"#E5ECF6\",\"gridcolor\":\"white\",\"gridwidth\":2,\"linecolor\":\"white\",\"showbackground\":true,\"ticks\":\"\",\"zerolinecolor\":\"white\"}},\"shapedefaults\":{\"line\":{\"color\":\"#2a3f5f\"}},\"ternary\":{\"aaxis\":{\"gridcolor\":\"white\",\"linecolor\":\"white\",\"ticks\":\"\"},\"baxis\":{\"gridcolor\":\"white\",\"linecolor\":\"white\",\"ticks\":\"\"},\"bgcolor\":\"#E5ECF6\",\"caxis\":{\"gridcolor\":\"white\",\"linecolor\":\"white\",\"ticks\":\"\"}},\"title\":{\"x\":0.05},\"xaxis\":{\"automargin\":true,\"gridcolor\":\"white\",\"linecolor\":\"white\",\"ticks\":\"\",\"title\":{\"standoff\":15},\"zerolinecolor\":\"white\",\"zerolinewidth\":2},\"yaxis\":{\"automargin\":true,\"gridcolor\":\"white\",\"linecolor\":\"white\",\"ticks\":\"\",\"title\":{\"standoff\":15},\"zerolinecolor\":\"white\",\"zerolinewidth\":2}}},\"xaxis\":{\"anchor\":\"y\",\"domain\":[0.0,1.0],\"title\":{\"text\":\"month\"},\"nticks\":13},\"yaxis\":{\"anchor\":\"x\",\"domain\":[0.0,1.0],\"title\":{\"text\":\"cpi_pct_yoy\"}},\"legend\":{\"tracegroupgap\":0},\"margin\":{\"t\":60},\"barmode\":\"relative\"},                        {\"responsive\": true}                    ).then(function(){\n",
              "                            \n",
              "var gd = document.getElementById('4d9d6b28-0102-4d51-8de7-e67040ebdc1d');\n",
              "var x = new MutationObserver(function (mutations, observer) {{\n",
              "        var display = window.getComputedStyle(gd).display;\n",
              "        if (!display || display === 'none') {{\n",
              "            console.log([gd, 'removed!']);\n",
              "            Plotly.purge(gd);\n",
              "            observer.disconnect();\n",
              "        }}\n",
              "}});\n",
              "\n",
              "// Listen for the removal of the full notebook cells\n",
              "var notebookContainer = gd.closest('#notebook-container');\n",
              "if (notebookContainer) {{\n",
              "    x.observe(notebookContainer, {childList: true});\n",
              "}}\n",
              "\n",
              "// Listen for the clearing of the current output cell\n",
              "var outputEl = gd.closest('.output');\n",
              "if (outputEl) {{\n",
              "    x.observe(outputEl, {childList: true});\n",
              "}}\n",
              "\n",
              "                        })                };                });            </script>        </div>"
            ]
          },
          "metadata": {},
          "output_type": "display_data"
        },
        {
          "data": {
            "application/vnd.plotly.v1+json": {
              "config": {
                "plotlyServerURL": "https://plot.ly"
              },
              "data": [
                {
                  "alignmentgroup": "True",
                  "hovertemplate": "quarter=%{x}<br>cpi_pct_yoy=%{text}<extra></extra>",
                  "legendgroup": "",
                  "marker": {
                    "color": "#636efa",
                    "pattern": {
                      "shape": ""
                    }
                  },
                  "name": "",
                  "offsetgroup": "",
                  "orientation": "v",
                  "showlegend": false,
                  "text": [
                    0.6068487019864971,
                    0.6893368644424064,
                    0.7134127152199642,
                    0.6813399660614403
                  ],
                  "textposition": "outside",
                  "texttemplate": "%{text:0.3f}",
                  "type": "bar",
                  "x": [
                    1,
                    2,
                    3,
                    4
                  ],
                  "xaxis": "x",
                  "y": [
                    0.6068487019864971,
                    0.6893368644424064,
                    0.7134127152199642,
                    0.6813399660614403
                  ],
                  "yaxis": "y"
                }
              ],
              "layout": {
                "autosize": true,
                "barmode": "relative",
                "legend": {
                  "tracegroupgap": 0
                },
                "margin": {
                  "t": 60
                },
                "template": {
                  "data": {
                    "bar": [
                      {
                        "error_x": {
                          "color": "#2a3f5f"
                        },
                        "error_y": {
                          "color": "#2a3f5f"
                        },
                        "marker": {
                          "line": {
                            "color": "#E5ECF6",
                            "width": 0.5
                          },
                          "pattern": {
                            "fillmode": "overlay",
                            "size": 10,
                            "solidity": 0.2
                          }
                        },
                        "type": "bar"
                      }
                    ],
                    "barpolar": [
                      {
                        "marker": {
                          "line": {
                            "color": "#E5ECF6",
                            "width": 0.5
                          },
                          "pattern": {
                            "fillmode": "overlay",
                            "size": 10,
                            "solidity": 0.2
                          }
                        },
                        "type": "barpolar"
                      }
                    ],
                    "carpet": [
                      {
                        "aaxis": {
                          "endlinecolor": "#2a3f5f",
                          "gridcolor": "white",
                          "linecolor": "white",
                          "minorgridcolor": "white",
                          "startlinecolor": "#2a3f5f"
                        },
                        "baxis": {
                          "endlinecolor": "#2a3f5f",
                          "gridcolor": "white",
                          "linecolor": "white",
                          "minorgridcolor": "white",
                          "startlinecolor": "#2a3f5f"
                        },
                        "type": "carpet"
                      }
                    ],
                    "choropleth": [
                      {
                        "colorbar": {
                          "outlinewidth": 0,
                          "ticks": ""
                        },
                        "type": "choropleth"
                      }
                    ],
                    "contour": [
                      {
                        "colorbar": {
                          "outlinewidth": 0,
                          "ticks": ""
                        },
                        "colorscale": [
                          [
                            0,
                            "#0d0887"
                          ],
                          [
                            0.1111111111111111,
                            "#46039f"
                          ],
                          [
                            0.2222222222222222,
                            "#7201a8"
                          ],
                          [
                            0.3333333333333333,
                            "#9c179e"
                          ],
                          [
                            0.4444444444444444,
                            "#bd3786"
                          ],
                          [
                            0.5555555555555556,
                            "#d8576b"
                          ],
                          [
                            0.6666666666666666,
                            "#ed7953"
                          ],
                          [
                            0.7777777777777778,
                            "#fb9f3a"
                          ],
                          [
                            0.8888888888888888,
                            "#fdca26"
                          ],
                          [
                            1,
                            "#f0f921"
                          ]
                        ],
                        "type": "contour"
                      }
                    ],
                    "contourcarpet": [
                      {
                        "colorbar": {
                          "outlinewidth": 0,
                          "ticks": ""
                        },
                        "type": "contourcarpet"
                      }
                    ],
                    "heatmap": [
                      {
                        "colorbar": {
                          "outlinewidth": 0,
                          "ticks": ""
                        },
                        "colorscale": [
                          [
                            0,
                            "#0d0887"
                          ],
                          [
                            0.1111111111111111,
                            "#46039f"
                          ],
                          [
                            0.2222222222222222,
                            "#7201a8"
                          ],
                          [
                            0.3333333333333333,
                            "#9c179e"
                          ],
                          [
                            0.4444444444444444,
                            "#bd3786"
                          ],
                          [
                            0.5555555555555556,
                            "#d8576b"
                          ],
                          [
                            0.6666666666666666,
                            "#ed7953"
                          ],
                          [
                            0.7777777777777778,
                            "#fb9f3a"
                          ],
                          [
                            0.8888888888888888,
                            "#fdca26"
                          ],
                          [
                            1,
                            "#f0f921"
                          ]
                        ],
                        "type": "heatmap"
                      }
                    ],
                    "heatmapgl": [
                      {
                        "colorbar": {
                          "outlinewidth": 0,
                          "ticks": ""
                        },
                        "colorscale": [
                          [
                            0,
                            "#0d0887"
                          ],
                          [
                            0.1111111111111111,
                            "#46039f"
                          ],
                          [
                            0.2222222222222222,
                            "#7201a8"
                          ],
                          [
                            0.3333333333333333,
                            "#9c179e"
                          ],
                          [
                            0.4444444444444444,
                            "#bd3786"
                          ],
                          [
                            0.5555555555555556,
                            "#d8576b"
                          ],
                          [
                            0.6666666666666666,
                            "#ed7953"
                          ],
                          [
                            0.7777777777777778,
                            "#fb9f3a"
                          ],
                          [
                            0.8888888888888888,
                            "#fdca26"
                          ],
                          [
                            1,
                            "#f0f921"
                          ]
                        ],
                        "type": "heatmapgl"
                      }
                    ],
                    "histogram": [
                      {
                        "marker": {
                          "pattern": {
                            "fillmode": "overlay",
                            "size": 10,
                            "solidity": 0.2
                          }
                        },
                        "type": "histogram"
                      }
                    ],
                    "histogram2d": [
                      {
                        "colorbar": {
                          "outlinewidth": 0,
                          "ticks": ""
                        },
                        "colorscale": [
                          [
                            0,
                            "#0d0887"
                          ],
                          [
                            0.1111111111111111,
                            "#46039f"
                          ],
                          [
                            0.2222222222222222,
                            "#7201a8"
                          ],
                          [
                            0.3333333333333333,
                            "#9c179e"
                          ],
                          [
                            0.4444444444444444,
                            "#bd3786"
                          ],
                          [
                            0.5555555555555556,
                            "#d8576b"
                          ],
                          [
                            0.6666666666666666,
                            "#ed7953"
                          ],
                          [
                            0.7777777777777778,
                            "#fb9f3a"
                          ],
                          [
                            0.8888888888888888,
                            "#fdca26"
                          ],
                          [
                            1,
                            "#f0f921"
                          ]
                        ],
                        "type": "histogram2d"
                      }
                    ],
                    "histogram2dcontour": [
                      {
                        "colorbar": {
                          "outlinewidth": 0,
                          "ticks": ""
                        },
                        "colorscale": [
                          [
                            0,
                            "#0d0887"
                          ],
                          [
                            0.1111111111111111,
                            "#46039f"
                          ],
                          [
                            0.2222222222222222,
                            "#7201a8"
                          ],
                          [
                            0.3333333333333333,
                            "#9c179e"
                          ],
                          [
                            0.4444444444444444,
                            "#bd3786"
                          ],
                          [
                            0.5555555555555556,
                            "#d8576b"
                          ],
                          [
                            0.6666666666666666,
                            "#ed7953"
                          ],
                          [
                            0.7777777777777778,
                            "#fb9f3a"
                          ],
                          [
                            0.8888888888888888,
                            "#fdca26"
                          ],
                          [
                            1,
                            "#f0f921"
                          ]
                        ],
                        "type": "histogram2dcontour"
                      }
                    ],
                    "mesh3d": [
                      {
                        "colorbar": {
                          "outlinewidth": 0,
                          "ticks": ""
                        },
                        "type": "mesh3d"
                      }
                    ],
                    "parcoords": [
                      {
                        "line": {
                          "colorbar": {
                            "outlinewidth": 0,
                            "ticks": ""
                          }
                        },
                        "type": "parcoords"
                      }
                    ],
                    "pie": [
                      {
                        "automargin": true,
                        "type": "pie"
                      }
                    ],
                    "scatter": [
                      {
                        "marker": {
                          "colorbar": {
                            "outlinewidth": 0,
                            "ticks": ""
                          }
                        },
                        "type": "scatter"
                      }
                    ],
                    "scatter3d": [
                      {
                        "line": {
                          "colorbar": {
                            "outlinewidth": 0,
                            "ticks": ""
                          }
                        },
                        "marker": {
                          "colorbar": {
                            "outlinewidth": 0,
                            "ticks": ""
                          }
                        },
                        "type": "scatter3d"
                      }
                    ],
                    "scattercarpet": [
                      {
                        "marker": {
                          "colorbar": {
                            "outlinewidth": 0,
                            "ticks": ""
                          }
                        },
                        "type": "scattercarpet"
                      }
                    ],
                    "scattergeo": [
                      {
                        "marker": {
                          "colorbar": {
                            "outlinewidth": 0,
                            "ticks": ""
                          }
                        },
                        "type": "scattergeo"
                      }
                    ],
                    "scattergl": [
                      {
                        "marker": {
                          "colorbar": {
                            "outlinewidth": 0,
                            "ticks": ""
                          }
                        },
                        "type": "scattergl"
                      }
                    ],
                    "scattermapbox": [
                      {
                        "marker": {
                          "colorbar": {
                            "outlinewidth": 0,
                            "ticks": ""
                          }
                        },
                        "type": "scattermapbox"
                      }
                    ],
                    "scatterpolar": [
                      {
                        "marker": {
                          "colorbar": {
                            "outlinewidth": 0,
                            "ticks": ""
                          }
                        },
                        "type": "scatterpolar"
                      }
                    ],
                    "scatterpolargl": [
                      {
                        "marker": {
                          "colorbar": {
                            "outlinewidth": 0,
                            "ticks": ""
                          }
                        },
                        "type": "scatterpolargl"
                      }
                    ],
                    "scatterternary": [
                      {
                        "marker": {
                          "colorbar": {
                            "outlinewidth": 0,
                            "ticks": ""
                          }
                        },
                        "type": "scatterternary"
                      }
                    ],
                    "surface": [
                      {
                        "colorbar": {
                          "outlinewidth": 0,
                          "ticks": ""
                        },
                        "colorscale": [
                          [
                            0,
                            "#0d0887"
                          ],
                          [
                            0.1111111111111111,
                            "#46039f"
                          ],
                          [
                            0.2222222222222222,
                            "#7201a8"
                          ],
                          [
                            0.3333333333333333,
                            "#9c179e"
                          ],
                          [
                            0.4444444444444444,
                            "#bd3786"
                          ],
                          [
                            0.5555555555555556,
                            "#d8576b"
                          ],
                          [
                            0.6666666666666666,
                            "#ed7953"
                          ],
                          [
                            0.7777777777777778,
                            "#fb9f3a"
                          ],
                          [
                            0.8888888888888888,
                            "#fdca26"
                          ],
                          [
                            1,
                            "#f0f921"
                          ]
                        ],
                        "type": "surface"
                      }
                    ],
                    "table": [
                      {
                        "cells": {
                          "fill": {
                            "color": "#EBF0F8"
                          },
                          "line": {
                            "color": "white"
                          }
                        },
                        "header": {
                          "fill": {
                            "color": "#C8D4E3"
                          },
                          "line": {
                            "color": "white"
                          }
                        },
                        "type": "table"
                      }
                    ]
                  },
                  "layout": {
                    "annotationdefaults": {
                      "arrowcolor": "#2a3f5f",
                      "arrowhead": 0,
                      "arrowwidth": 1
                    },
                    "autotypenumbers": "strict",
                    "coloraxis": {
                      "colorbar": {
                        "outlinewidth": 0,
                        "ticks": ""
                      }
                    },
                    "colorscale": {
                      "diverging": [
                        [
                          0,
                          "#8e0152"
                        ],
                        [
                          0.1,
                          "#c51b7d"
                        ],
                        [
                          0.2,
                          "#de77ae"
                        ],
                        [
                          0.3,
                          "#f1b6da"
                        ],
                        [
                          0.4,
                          "#fde0ef"
                        ],
                        [
                          0.5,
                          "#f7f7f7"
                        ],
                        [
                          0.6,
                          "#e6f5d0"
                        ],
                        [
                          0.7,
                          "#b8e186"
                        ],
                        [
                          0.8,
                          "#7fbc41"
                        ],
                        [
                          0.9,
                          "#4d9221"
                        ],
                        [
                          1,
                          "#276419"
                        ]
                      ],
                      "sequential": [
                        [
                          0,
                          "#0d0887"
                        ],
                        [
                          0.1111111111111111,
                          "#46039f"
                        ],
                        [
                          0.2222222222222222,
                          "#7201a8"
                        ],
                        [
                          0.3333333333333333,
                          "#9c179e"
                        ],
                        [
                          0.4444444444444444,
                          "#bd3786"
                        ],
                        [
                          0.5555555555555556,
                          "#d8576b"
                        ],
                        [
                          0.6666666666666666,
                          "#ed7953"
                        ],
                        [
                          0.7777777777777778,
                          "#fb9f3a"
                        ],
                        [
                          0.8888888888888888,
                          "#fdca26"
                        ],
                        [
                          1,
                          "#f0f921"
                        ]
                      ],
                      "sequentialminus": [
                        [
                          0,
                          "#0d0887"
                        ],
                        [
                          0.1111111111111111,
                          "#46039f"
                        ],
                        [
                          0.2222222222222222,
                          "#7201a8"
                        ],
                        [
                          0.3333333333333333,
                          "#9c179e"
                        ],
                        [
                          0.4444444444444444,
                          "#bd3786"
                        ],
                        [
                          0.5555555555555556,
                          "#d8576b"
                        ],
                        [
                          0.6666666666666666,
                          "#ed7953"
                        ],
                        [
                          0.7777777777777778,
                          "#fb9f3a"
                        ],
                        [
                          0.8888888888888888,
                          "#fdca26"
                        ],
                        [
                          1,
                          "#f0f921"
                        ]
                      ]
                    },
                    "colorway": [
                      "#636efa",
                      "#EF553B",
                      "#00cc96",
                      "#ab63fa",
                      "#FFA15A",
                      "#19d3f3",
                      "#FF6692",
                      "#B6E880",
                      "#FF97FF",
                      "#FECB52"
                    ],
                    "font": {
                      "color": "#2a3f5f"
                    },
                    "geo": {
                      "bgcolor": "white",
                      "lakecolor": "white",
                      "landcolor": "#E5ECF6",
                      "showlakes": true,
                      "showland": true,
                      "subunitcolor": "white"
                    },
                    "hoverlabel": {
                      "align": "left"
                    },
                    "hovermode": "closest",
                    "mapbox": {
                      "style": "light"
                    },
                    "paper_bgcolor": "white",
                    "plot_bgcolor": "#E5ECF6",
                    "polar": {
                      "angularaxis": {
                        "gridcolor": "white",
                        "linecolor": "white",
                        "ticks": ""
                      },
                      "bgcolor": "#E5ECF6",
                      "radialaxis": {
                        "gridcolor": "white",
                        "linecolor": "white",
                        "ticks": ""
                      }
                    },
                    "scene": {
                      "xaxis": {
                        "backgroundcolor": "#E5ECF6",
                        "gridcolor": "white",
                        "gridwidth": 2,
                        "linecolor": "white",
                        "showbackground": true,
                        "ticks": "",
                        "zerolinecolor": "white"
                      },
                      "yaxis": {
                        "backgroundcolor": "#E5ECF6",
                        "gridcolor": "white",
                        "gridwidth": 2,
                        "linecolor": "white",
                        "showbackground": true,
                        "ticks": "",
                        "zerolinecolor": "white"
                      },
                      "zaxis": {
                        "backgroundcolor": "#E5ECF6",
                        "gridcolor": "white",
                        "gridwidth": 2,
                        "linecolor": "white",
                        "showbackground": true,
                        "ticks": "",
                        "zerolinecolor": "white"
                      }
                    },
                    "shapedefaults": {
                      "line": {
                        "color": "#2a3f5f"
                      }
                    },
                    "ternary": {
                      "aaxis": {
                        "gridcolor": "white",
                        "linecolor": "white",
                        "ticks": ""
                      },
                      "baxis": {
                        "gridcolor": "white",
                        "linecolor": "white",
                        "ticks": ""
                      },
                      "bgcolor": "#E5ECF6",
                      "caxis": {
                        "gridcolor": "white",
                        "linecolor": "white",
                        "ticks": ""
                      }
                    },
                    "title": {
                      "x": 0.05
                    },
                    "xaxis": {
                      "automargin": true,
                      "gridcolor": "white",
                      "linecolor": "white",
                      "ticks": "",
                      "title": {
                        "standoff": 15
                      },
                      "zerolinecolor": "white",
                      "zerolinewidth": 2
                    },
                    "yaxis": {
                      "automargin": true,
                      "gridcolor": "white",
                      "linecolor": "white",
                      "ticks": "",
                      "title": {
                        "standoff": 15
                      },
                      "zerolinecolor": "white",
                      "zerolinewidth": 2
                    }
                  }
                },
                "xaxis": {
                  "anchor": "y",
                  "autorange": true,
                  "domain": [
                    0,
                    1
                  ],
                  "nticks": 5,
                  "range": [
                    0.5,
                    4.5
                  ],
                  "title": {
                    "text": "quarter"
                  },
                  "type": "linear"
                },
                "yaxis": {
                  "anchor": "x",
                  "autorange": true,
                  "domain": [
                    0,
                    1
                  ],
                  "range": [
                    0,
                    0.7509607528631201
                  ],
                  "title": {
                    "text": "cpi_pct_yoy"
                  },
                  "type": "linear"
                }
              }
            },
            "image/png": "[encoded data removed]",
            "text/html": [
              "<div>                            <div id=\"dc4c1a25-be55-420f-88a7-e792eba267c1\" class=\"plotly-graph-div\" style=\"height:525px; width:100%;\"></div>            <script type=\"text/javascript\">                require([\"plotly\"], function(Plotly) {                    window.PLOTLYENV=window.PLOTLYENV || {};                                    if (document.getElementById(\"dc4c1a25-be55-420f-88a7-e792eba267c1\")) {                    Plotly.newPlot(                        \"dc4c1a25-be55-420f-88a7-e792eba267c1\",                        [{\"alignmentgroup\":\"True\",\"hovertemplate\":\"quarter=%{x}<br>cpi_pct_yoy=%{text}<extra></extra>\",\"legendgroup\":\"\",\"marker\":{\"color\":\"#636efa\",\"pattern\":{\"shape\":\"\"}},\"name\":\"\",\"offsetgroup\":\"\",\"orientation\":\"v\",\"showlegend\":false,\"text\":[0.6068487019864971,0.6893368644424064,0.7134127152199642,0.6813399660614403],\"textposition\":\"outside\",\"x\":[1,2,3,4],\"xaxis\":\"x\",\"y\":[0.6068487019864971,0.6893368644424064,0.7134127152199642,0.6813399660614403],\"yaxis\":\"y\",\"type\":\"bar\",\"texttemplate\":\"%{text:0.3f}\"}],                        {\"template\":{\"data\":{\"bar\":[{\"error_x\":{\"color\":\"#2a3f5f\"},\"error_y\":{\"color\":\"#2a3f5f\"},\"marker\":{\"line\":{\"color\":\"#E5ECF6\",\"width\":0.5},\"pattern\":{\"fillmode\":\"overlay\",\"size\":10,\"solidity\":0.2}},\"type\":\"bar\"}],\"barpolar\":[{\"marker\":{\"line\":{\"color\":\"#E5ECF6\",\"width\":0.5},\"pattern\":{\"fillmode\":\"overlay\",\"size\":10,\"solidity\":0.2}},\"type\":\"barpolar\"}],\"carpet\":[{\"aaxis\":{\"endlinecolor\":\"#2a3f5f\",\"gridcolor\":\"white\",\"linecolor\":\"white\",\"minorgridcolor\":\"white\",\"startlinecolor\":\"#2a3f5f\"},\"baxis\":{\"endlinecolor\":\"#2a3f5f\",\"gridcolor\":\"white\",\"linecolor\":\"white\",\"minorgridcolor\":\"white\",\"startlinecolor\":\"#2a3f5f\"},\"type\":\"carpet\"}],\"choropleth\":[{\"colorbar\":{\"outlinewidth\":0,\"ticks\":\"\"},\"type\":\"choropleth\"}],\"contour\":[{\"colorbar\":{\"outlinewidth\":0,\"ticks\":\"\"},\"colorscale\":[[0.0,\"#0d0887\"],[0.1111111111111111,\"#46039f\"],[0.2222222222222222,\"#7201a8\"],[0.3333333333333333,\"#9c179e\"],[0.4444444444444444,\"#bd3786\"],[0.5555555555555556,\"#d8576b\"],[0.6666666666666666,\"#ed7953\"],[0.7777777777777778,\"#fb9f3a\"],[0.8888888888888888,\"#fdca26\"],[1.0,\"#f0f921\"]],\"type\":\"contour\"}],\"contourcarpet\":[{\"colorbar\":{\"outlinewidth\":0,\"ticks\":\"\"},\"type\":\"contourcarpet\"}],\"heatmap\":[{\"colorbar\":{\"outlinewidth\":0,\"ticks\":\"\"},\"colorscale\":[[0.0,\"#0d0887\"],[0.1111111111111111,\"#46039f\"],[0.2222222222222222,\"#7201a8\"],[0.3333333333333333,\"#9c179e\"],[0.4444444444444444,\"#bd3786\"],[0.5555555555555556,\"#d8576b\"],[0.6666666666666666,\"#ed7953\"],[0.7777777777777778,\"#fb9f3a\"],[0.8888888888888888,\"#fdca26\"],[1.0,\"#f0f921\"]],\"type\":\"heatmap\"}],\"heatmapgl\":[{\"colorbar\":{\"outlinewidth\":0,\"ticks\":\"\"},\"colorscale\":[[0.0,\"#0d0887\"],[0.1111111111111111,\"#46039f\"],[0.2222222222222222,\"#7201a8\"],[0.3333333333333333,\"#9c179e\"],[0.4444444444444444,\"#bd3786\"],[0.5555555555555556,\"#d8576b\"],[0.6666666666666666,\"#ed7953\"],[0.7777777777777778,\"#fb9f3a\"],[0.8888888888888888,\"#fdca26\"],[1.0,\"#f0f921\"]],\"type\":\"heatmapgl\"}],\"histogram\":[{\"marker\":{\"pattern\":{\"fillmode\":\"overlay\",\"size\":10,\"solidity\":0.2}},\"type\":\"histogram\"}],\"histogram2d\":[{\"colorbar\":{\"outlinewidth\":0,\"ticks\":\"\"},\"colorscale\":[[0.0,\"#0d0887\"],[0.1111111111111111,\"#46039f\"],[0.2222222222222222,\"#7201a8\"],[0.3333333333333333,\"#9c179e\"],[0.4444444444444444,\"#bd3786\"],[0.5555555555555556,\"#d8576b\"],[0.6666666666666666,\"#ed7953\"],[0.7777777777777778,\"#fb9f3a\"],[0.8888888888888888,\"#fdca26\"],[1.0,\"#f0f921\"]],\"type\":\"histogram2d\"}],\"histogram2dcontour\":[{\"colorbar\":{\"outlinewidth\":0,\"ticks\":\"\"},\"colorscale\":[[0.0,\"#0d0887\"],[0.1111111111111111,\"#46039f\"],[0.2222222222222222,\"#7201a8\"],[0.3333333333333333,\"#9c179e\"],[0.4444444444444444,\"#bd3786\"],[0.5555555555555556,\"#d8576b\"],[0.6666666666666666,\"#ed7953\"],[0.7777777777777778,\"#fb9f3a\"],[0.8888888888888888,\"#fdca26\"],[1.0,\"#f0f921\"]],\"type\":\"histogram2dcontour\"}],\"mesh3d\":[{\"colorbar\":{\"outlinewidth\":0,\"ticks\":\"\"},\"type\":\"mesh3d\"}],\"parcoords\":[{\"line\":{\"colorbar\":{\"outlinewidth\":0,\"ticks\":\"\"}},\"type\":\"parcoords\"}],\"pie\":[{\"automargin\":true,\"type\":\"pie\"}],\"scatter\":[{\"marker\":{\"colorbar\":{\"outlinewidth\":0,\"ticks\":\"\"}},\"type\":\"scatter\"}],\"scatter3d\":[{\"line\":{\"colorbar\":{\"outlinewidth\":0,\"ticks\":\"\"}},\"marker\":{\"colorbar\":{\"outlinewidth\":0,\"ticks\":\"\"}},\"type\":\"scatter3d\"}],\"scattercarpet\":[{\"marker\":{\"colorbar\":{\"outlinewidth\":0,\"ticks\":\"\"}},\"type\":\"scattercarpet\"}],\"scattergeo\":[{\"marker\":{\"colorbar\":{\"outlinewidth\":0,\"ticks\":\"\"}},\"type\":\"scattergeo\"}],\"scattergl\":[{\"marker\":{\"colorbar\":{\"outlinewidth\":0,\"ticks\":\"\"}},\"type\":\"scattergl\"}],\"scattermapbox\":[{\"marker\":{\"colorbar\":{\"outlinewidth\":0,\"ticks\":\"\"}},\"type\":\"scattermapbox\"}],\"scatterpolar\":[{\"marker\":{\"colorbar\":{\"outlinewidth\":0,\"ticks\":\"\"}},\"type\":\"scatterpolar\"}],\"scatterpolargl\":[{\"marker\":{\"colorbar\":{\"outlinewidth\":0,\"ticks\":\"\"}},\"type\":\"scatterpolargl\"}],\"scatterternary\":[{\"marker\":{\"colorbar\":{\"outlinewidth\":0,\"ticks\":\"\"}},\"type\":\"scatterternary\"}],\"surface\":[{\"colorbar\":{\"outlinewidth\":0,\"ticks\":\"\"},\"colorscale\":[[0.0,\"#0d0887\"],[0.1111111111111111,\"#46039f\"],[0.2222222222222222,\"#7201a8\"],[0.3333333333333333,\"#9c179e\"],[0.4444444444444444,\"#bd3786\"],[0.5555555555555556,\"#d8576b\"],[0.6666666666666666,\"#ed7953\"],[0.7777777777777778,\"#fb9f3a\"],[0.8888888888888888,\"#fdca26\"],[1.0,\"#f0f921\"]],\"type\":\"surface\"}],\"table\":[{\"cells\":{\"fill\":{\"color\":\"#EBF0F8\"},\"line\":{\"color\":\"white\"}},\"header\":{\"fill\":{\"color\":\"#C8D4E3\"},\"line\":{\"color\":\"white\"}},\"type\":\"table\"}]},\"layout\":{\"annotationdefaults\":{\"arrowcolor\":\"#2a3f5f\",\"arrowhead\":0,\"arrowwidth\":1},\"autotypenumbers\":\"strict\",\"coloraxis\":{\"colorbar\":{\"outlinewidth\":0,\"ticks\":\"\"}},\"colorscale\":{\"diverging\":[[0,\"#8e0152\"],[0.1,\"#c51b7d\"],[0.2,\"#de77ae\"],[0.3,\"#f1b6da\"],[0.4,\"#fde0ef\"],[0.5,\"#f7f7f7\"],[0.6,\"#e6f5d0\"],[0.7,\"#b8e186\"],[0.8,\"#7fbc41\"],[0.9,\"#4d9221\"],[1,\"#276419\"]],\"sequential\":[[0.0,\"#0d0887\"],[0.1111111111111111,\"#46039f\"],[0.2222222222222222,\"#7201a8\"],[0.3333333333333333,\"#9c179e\"],[0.4444444444444444,\"#bd3786\"],[0.5555555555555556,\"#d8576b\"],[0.6666666666666666,\"#ed7953\"],[0.7777777777777778,\"#fb9f3a\"],[0.8888888888888888,\"#fdca26\"],[1.0,\"#f0f921\"]],\"sequentialminus\":[[0.0,\"#0d0887\"],[0.1111111111111111,\"#46039f\"],[0.2222222222222222,\"#7201a8\"],[0.3333333333333333,\"#9c179e\"],[0.4444444444444444,\"#bd3786\"],[0.5555555555555556,\"#d8576b\"],[0.6666666666666666,\"#ed7953\"],[0.7777777777777778,\"#fb9f3a\"],[0.8888888888888888,\"#fdca26\"],[1.0,\"#f0f921\"]]},\"colorway\":[\"#636efa\",\"#EF553B\",\"#00cc96\",\"#ab63fa\",\"#FFA15A\",\"#19d3f3\",\"#FF6692\",\"#B6E880\",\"#FF97FF\",\"#FECB52\"],\"font\":{\"color\":\"#2a3f5f\"},\"geo\":{\"bgcolor\":\"white\",\"lakecolor\":\"white\",\"landcolor\":\"#E5ECF6\",\"showlakes\":true,\"showland\":true,\"subunitcolor\":\"white\"},\"hoverlabel\":{\"align\":\"left\"},\"hovermode\":\"closest\",\"mapbox\":{\"style\":\"light\"},\"paper_bgcolor\":\"white\",\"plot_bgcolor\":\"#E5ECF6\",\"polar\":{\"angularaxis\":{\"gridcolor\":\"white\",\"linecolor\":\"white\",\"ticks\":\"\"},\"bgcolor\":\"#E5ECF6\",\"radialaxis\":{\"gridcolor\":\"white\",\"linecolor\":\"white\",\"ticks\":\"\"}},\"scene\":{\"xaxis\":{\"backgroundcolor\":\"#E5ECF6\",\"gridcolor\":\"white\",\"gridwidth\":2,\"linecolor\":\"white\",\"showbackground\":true,\"ticks\":\"\",\"zerolinecolor\":\"white\"},\"yaxis\":{\"backgroundcolor\":\"#E5ECF6\",\"gridcolor\":\"white\",\"gridwidth\":2,\"linecolor\":\"white\",\"showbackground\":true,\"ticks\":\"\",\"zerolinecolor\":\"white\"},\"zaxis\":{\"backgroundcolor\":\"#E5ECF6\",\"gridcolor\":\"white\",\"gridwidth\":2,\"linecolor\":\"white\",\"showbackground\":true,\"ticks\":\"\",\"zerolinecolor\":\"white\"}},\"shapedefaults\":{\"line\":{\"color\":\"#2a3f5f\"}},\"ternary\":{\"aaxis\":{\"gridcolor\":\"white\",\"linecolor\":\"white\",\"ticks\":\"\"},\"baxis\":{\"gridcolor\":\"white\",\"linecolor\":\"white\",\"ticks\":\"\"},\"bgcolor\":\"#E5ECF6\",\"caxis\":{\"gridcolor\":\"white\",\"linecolor\":\"white\",\"ticks\":\"\"}},\"title\":{\"x\":0.05},\"xaxis\":{\"automargin\":true,\"gridcolor\":\"white\",\"linecolor\":\"white\",\"ticks\":\"\",\"title\":{\"standoff\":15},\"zerolinecolor\":\"white\",\"zerolinewidth\":2},\"yaxis\":{\"automargin\":true,\"gridcolor\":\"white\",\"linecolor\":\"white\",\"ticks\":\"\",\"title\":{\"standoff\":15},\"zerolinecolor\":\"white\",\"zerolinewidth\":2}}},\"xaxis\":{\"anchor\":\"y\",\"domain\":[0.0,1.0],\"title\":{\"text\":\"quarter\"},\"nticks\":5},\"yaxis\":{\"anchor\":\"x\",\"domain\":[0.0,1.0],\"title\":{\"text\":\"cpi_pct_yoy\"}},\"legend\":{\"tracegroupgap\":0},\"margin\":{\"t\":60},\"barmode\":\"relative\"},                        {\"responsive\": true}                    ).then(function(){\n",
              "                            \n",
              "var gd = document.getElementById('dc4c1a25-be55-420f-88a7-e792eba267c1');\n",
              "var x = new MutationObserver(function (mutations, observer) {{\n",
              "        var display = window.getComputedStyle(gd).display;\n",
              "        if (!display || display === 'none') {{\n",
              "            console.log([gd, 'removed!']);\n",
              "            Plotly.purge(gd);\n",
              "            observer.disconnect();\n",
              "        }}\n",
              "}});\n",
              "\n",
              "// Listen for the removal of the full notebook cells\n",
              "var notebookContainer = gd.closest('#notebook-container');\n",
              "if (notebookContainer) {{\n",
              "    x.observe(notebookContainer, {childList: true});\n",
              "}}\n",
              "\n",
              "// Listen for the clearing of the current output cell\n",
              "var outputEl = gd.closest('.output');\n",
              "if (outputEl) {{\n",
              "    x.observe(outputEl, {childList: true});\n",
              "}}\n",
              "\n",
              "                        })                };                });            </script>        </div>"
            ]
          },
          "metadata": {},
          "output_type": "display_data"
        }
      ],
      "source": [
        "fig = px.bar(\n",
        "    data_frame=monthly_df.groupby(['month']).std().reset_index(), \n",
        "    x=\"month\", \n",
        "    y=\"cpi_pct_yoy\", text=\"cpi_pct_yoy\"\n",
        ").update_traces(texttemplate='%{text:0.3f}', textposition='outside').update_xaxes(nticks=13)\n",
        "fig.show()\n",
        "\n",
        "fig = px.bar(\n",
        "    data_frame=monthly_df.groupby(['quarter']).std().reset_index(), \n",
        "    x=\"quarter\", \n",
        "    y=\"cpi_pct_yoy\", text=\"cpi_pct_yoy\").update_traces(texttemplate='%{text:0.3f}', textposition='outside').update_xaxes(nticks=5)\n",
        "fig.show()"
      ]
    },
    {
      "cell_type": "markdown",
      "metadata": {
        "id": "DjJmmSRWKE0l"
      },
      "source": [
        "## Prévision de l'inflation"
      ]
    },
    {
      "cell_type": "code",
      "execution_count": null,
      "metadata": {
        "execution": {
          "iopub.execute_input": "2022-01-09T06:00:55.874720Z",
          "iopub.status.busy": "2022-01-09T06:00:55.874457Z",
          "iopub.status.idle": "2022-01-09T06:00:55.896546Z",
          "shell.execute_reply": "2022-01-09T06:00:55.896016Z",
          "shell.execute_reply.started": "2022-01-09T06:00:55.874689Z"
        },
        "id": "KSwfoLXoKE0m",
        "outputId": "3d995789-8229-4186-9a9f-51f1f7794f17"
      },
      "outputs": [
        {
          "data": {
            "text/plain": [
              "(334, 12)"
            ]
          },
          "execution_count": 327,
          "metadata": {},
          "output_type": "execute_result"
        },
        {
          "data": {
            "text/html": [
              "<div>\n",
              "<style scoped>\n",
              "    .dataframe tbody tr th:only-of-type {\n",
              "        vertical-align: middle;\n",
              "    }\n",
              "\n",
              "    .dataframe tbody tr th {\n",
              "        vertical-align: top;\n",
              "    }\n",
              "\n",
              "    .dataframe thead th {\n",
              "        text-align: right;\n",
              "    }\n",
              "</style>\n",
              "<table border=\"1\" class=\"dataframe\">\n",
              "  <thead>\n",
              "    <tr style=\"text-align: right;\">\n",
              "      <th></th>\n",
              "      <th>DATE</th>\n",
              "      <th>unrate</th>\n",
              "      <th>psr</th>\n",
              "      <th>m2</th>\n",
              "      <th>dspic</th>\n",
              "      <th>pce</th>\n",
              "      <th>reer</th>\n",
              "      <th>ir</th>\n",
              "      <th>ffer</th>\n",
              "      <th>tcs</th>\n",
              "      <th>indpro</th>\n",
              "      <th>ccpi</th>\n",
              "    </tr>\n",
              "  </thead>\n",
              "  <tbody>\n",
              "    <tr>\n",
              "      <th>156</th>\n",
              "      <td>1994-01-01</td>\n",
              "      <td>6.6</td>\n",
              "      <td>7.1</td>\n",
              "      <td>3481.800</td>\n",
              "      <td>7363.1</td>\n",
              "      <td>4585.1</td>\n",
              "      <td>105.21</td>\n",
              "      <td>5.750500</td>\n",
              "      <td>3.050645</td>\n",
              "      <td>513314.0</td>\n",
              "      <td>67.0596</td>\n",
              "      <td>154.5</td>\n",
              "    </tr>\n",
              "    <tr>\n",
              "      <th>157</th>\n",
              "      <td>1994-02-01</td>\n",
              "      <td>6.6</td>\n",
              "      <td>6.5</td>\n",
              "      <td>3459.675</td>\n",
              "      <td>7377.2</td>\n",
              "      <td>4632.6</td>\n",
              "      <td>104.66</td>\n",
              "      <td>5.973158</td>\n",
              "      <td>3.245000</td>\n",
              "      <td>513196.0</td>\n",
              "      <td>67.1060</td>\n",
              "      <td>154.8</td>\n",
              "    </tr>\n",
              "    <tr>\n",
              "      <th>158</th>\n",
              "      <td>1994-03-01</td>\n",
              "      <td>6.5</td>\n",
              "      <td>6.8</td>\n",
              "      <td>3476.975</td>\n",
              "      <td>7401.7</td>\n",
              "      <td>4646.0</td>\n",
              "      <td>104.78</td>\n",
              "      <td>6.482609</td>\n",
              "      <td>3.335806</td>\n",
              "      <td>521040.0</td>\n",
              "      <td>67.7792</td>\n",
              "      <td>155.3</td>\n",
              "    </tr>\n",
              "    <tr>\n",
              "      <th>159</th>\n",
              "      <td>1994-04-01</td>\n",
              "      <td>6.4</td>\n",
              "      <td>6.4</td>\n",
              "      <td>3507.150</td>\n",
              "      <td>7402.0</td>\n",
              "      <td>4671.1</td>\n",
              "      <td>104.68</td>\n",
              "      <td>6.972105</td>\n",
              "      <td>3.555000</td>\n",
              "      <td>528063.0</td>\n",
              "      <td>68.1906</td>\n",
              "      <td>155.5</td>\n",
              "    </tr>\n",
              "    <tr>\n",
              "      <th>160</th>\n",
              "      <td>1994-05-01</td>\n",
              "      <td>6.1</td>\n",
              "      <td>7.6</td>\n",
              "      <td>3472.840</td>\n",
              "      <td>7487.4</td>\n",
              "      <td>4669.5</td>\n",
              "      <td>103.78</td>\n",
              "      <td>7.183333</td>\n",
              "      <td>4.010968</td>\n",
              "      <td>532328.0</td>\n",
              "      <td>68.5136</td>\n",
              "      <td>155.9</td>\n",
              "    </tr>\n",
              "  </tbody>\n",
              "</table>\n",
              "</div>"
            ],
            "text/plain": [
              "          DATE  unrate  psr        m2   dspic     pce    reer        ir  \\\n",
              "156 1994-01-01     6.6  7.1  3481.800  7363.1  4585.1  105.21  5.750500   \n",
              "157 1994-02-01     6.6  6.5  3459.675  7377.2  4632.6  104.66  5.973158   \n",
              "158 1994-03-01     6.5  6.8  3476.975  7401.7  4646.0  104.78  6.482609   \n",
              "159 1994-04-01     6.4  6.4  3507.150  7402.0  4671.1  104.68  6.972105   \n",
              "160 1994-05-01     6.1  7.6  3472.840  7487.4  4669.5  103.78  7.183333   \n",
              "\n",
              "         ffer       tcs   indpro   ccpi  \n",
              "156  3.050645  513314.0  67.0596  154.5  \n",
              "157  3.245000  513196.0  67.1060  154.8  \n",
              "158  3.335806  521040.0  67.7792  155.3  \n",
              "159  3.555000  528063.0  68.1906  155.5  \n",
              "160  4.010968  532328.0  68.5136  155.9  "
            ]
          },
          "execution_count": 327,
          "metadata": {},
          "output_type": "execute_result"
        }
      ],
      "source": [
        "monthly_raw.shape\n",
        "monthly_raw.head(5)"
      ]
    },
    {
      "cell_type": "markdown",
      "metadata": {
        "id": "fxS3HYB7KE0o"
      },
      "source": [
        "Set date as the dataframe's index."
      ]
    },
    {
      "cell_type": "code",
      "execution_count": null,
      "metadata": {
        "execution": {
          "iopub.execute_input": "2022-01-09T06:00:55.897888Z",
          "iopub.status.busy": "2022-01-09T06:00:55.897438Z",
          "iopub.status.idle": "2022-01-09T06:00:55.903253Z",
          "shell.execute_reply": "2022-01-09T06:00:55.902463Z",
          "shell.execute_reply.started": "2022-01-09T06:00:55.897851Z"
        },
        "id": "ZhlT_47RKE0p"
      },
      "outputs": [],
      "source": [
        "df_cpi = monthly_raw.set_index('DATE')"
      ]
    },
    {
      "cell_type": "markdown",
      "metadata": {
        "id": "8BVUf3IcKE0q"
      },
      "source": [
        "## ARIMA Implementation\n",
        "Comme il s'agit de prévoir des séries chronologiques, le modèle ARIMA (Autoregressive Integrated Moving Average), qui combine les modèles AR et MA, peut être utilisé pour prévoir les tendances/valeurs futures. Parmi les avantages de l'utilisation de l'ARIMA, on peut citer sa facilité d'interprétation, sa facilité de mise en œuvre et le fait qu'il peut même fonctionner mieux pour des séries relativement courtes, comme dans le cas présent, où le nombre d'observations n'est pas suffisant pour appliquer des modèles plus sophistiqués."
      ]
    },
    {
      "cell_type": "code",
      "execution_count": null,
      "metadata": {
        "execution": {
          "iopub.execute_input": "2022-01-09T06:00:55.905032Z",
          "iopub.status.busy": "2022-01-09T06:00:55.904644Z",
          "iopub.status.idle": "2022-01-09T06:00:56.911711Z",
          "shell.execute_reply": "2022-01-09T06:00:56.910730Z",
          "shell.execute_reply.started": "2022-01-09T06:00:55.904990Z"
        },
        "id": "AOKCAlqjKE0r",
        "outputId": "b5197493-ae73-4f16-e25f-1c72c5a941ac"
      },
      "outputs": [
        {
          "data": {
            "text/plain": [
              "<AxesSubplot:xlabel='DATE'>"
            ]
          },
          "execution_count": 329,
          "metadata": {},
          "output_type": "execute_result"
        },
        {
          "data": {
            "image/png": "[encoded data removed]",
            "text/plain": [
              "<Figure size 432x288 with 1 Axes>"
            ]
          },
          "metadata": {
            "needs_background": "light"
          },
          "output_type": "display_data"
        },
        {
          "data": {
            "image/png": "[encoded data removed]",
            "text/plain": [
              "<Figure size 432x288 with 4 Axes>"
            ]
          },
          "metadata": {
            "needs_background": "light"
          },
          "output_type": "display_data"
        }
      ],
      "source": [
        "df_cpi['ccpi'].plot()\n",
        "fig = seasonal_decompose(df_cpi['ccpi'], model='additive').plot()"
      ]
    },
    {
      "cell_type": "markdown",
      "metadata": {
        "id": "fKg3uds9KE0s"
      },
      "source": [
        "Les données montrent une nette tendance à la hausse et ne sont pas stationnaires. Comme l'une des principales hypothèses du modèle ARIMA est que la série chronologique est stationnaire, nous devons corriger la non-stationnarité ultérieurement."
      ]
    },
    {
      "cell_type": "markdown",
      "metadata": {
        "id": "WzSggy0iKE0t"
      },
      "source": [
        "### Splitting the Data"
      ]
    },
    {
      "cell_type": "code",
      "execution_count": null,
      "metadata": {
        "execution": {
          "iopub.execute_input": "2022-01-09T06:00:56.913684Z",
          "iopub.status.busy": "2022-01-09T06:00:56.913274Z",
          "iopub.status.idle": "2022-01-09T06:00:57.176320Z",
          "shell.execute_reply": "2022-01-09T06:00:57.175455Z",
          "shell.execute_reply.started": "2022-01-09T06:00:56.913622Z"
        },
        "id": "hsENzh9qKE0t",
        "outputId": "f72de166-62fa-42a3-b86b-54be00433c64"
      },
      "outputs": [
        {
          "name": "stdout",
          "output_type": "stream",
          "text": [
            "Training dataset: 322, Test dataset: 12\n"
          ]
        },
        {
          "data": {
            "text/plain": [
              "<AxesSubplot:xlabel='DATE'>"
            ]
          },
          "execution_count": 330,
          "metadata": {},
          "output_type": "execute_result"
        },
        {
          "data": {
            "text/plain": [
              "<AxesSubplot:xlabel='DATE'>"
            ]
          },
          "execution_count": 330,
          "metadata": {},
          "output_type": "execute_result"
        },
        {
          "data": {
            "image/png": "[encoded data removed]",
            "text/plain": [
              "<Figure size 432x288 with 1 Axes>"
            ]
          },
          "metadata": {
            "needs_background": "light"
          },
          "output_type": "display_data"
        }
      ],
      "source": [
        "split_point = len(df_cpi) - 12\n",
        "train, test = df_cpi[0:split_point], df_cpi[split_point:]\n",
        "print('Training dataset: %d, Test dataset: %d' % (len(train), len(test)))\n",
        "train['ccpi'].plot()\n",
        "test['ccpi'].plot()"
      ]
    },
    {
      "cell_type": "markdown",
      "metadata": {
        "id": "2ixygjijKE0u"
      },
      "source": [
        "Le graphique montre que l'année 2020 a connu une baisse en raison des restrictions liées à la pandémie. La ligne orange indique le jeu de test.\n",
        "\n",
        "### Prendre les premières différences\n",
        "Ici, nous trouvons le nombre de différenciations optimales pour éliminer la racine unitaire afin que la série chronologique soit stationnaire. Ceci est fait en utilisant la fonction diff() et en testant avec le test de Dickey-Fuller augmenté."
      ]
    },
    {
      "cell_type": "code",
      "execution_count": null,
      "metadata": {
        "execution": {
          "iopub.execute_input": "2022-01-09T06:00:57.178334Z",
          "iopub.status.busy": "2022-01-09T06:00:57.178028Z",
          "iopub.status.idle": "2022-01-09T06:00:57.409618Z",
          "shell.execute_reply": "2022-01-09T06:00:57.409079Z",
          "shell.execute_reply.started": "2022-01-09T06:00:57.178294Z"
        },
        "id": "aQVrIT7fKE0v",
        "outputId": "179f19c9-2814-4e58-b5ea-09e6727962a7"
      },
      "outputs": [
        {
          "data": {
            "text/plain": [
              "[<matplotlib.lines.Line2D at 0x7f6ef464a210>]"
            ]
          },
          "execution_count": 331,
          "metadata": {},
          "output_type": "execute_result"
        },
        {
          "data": {
            "image/png": "[encoded data removed]",
            "text/plain": [
              "<Figure size 432x288 with 1 Axes>"
            ]
          },
          "metadata": {
            "needs_background": "light"
          },
          "output_type": "display_data"
        }
      ],
      "source": [
        "diff = train['ccpi'].diff()\n",
        "plt.plot(diff)\n",
        "plt.show()\n",
        "diff = diff.dropna()"
      ]
    },
    {
      "cell_type": "code",
      "execution_count": null,
      "metadata": {
        "execution": {
          "iopub.execute_input": "2022-01-09T06:00:57.411195Z",
          "iopub.status.busy": "2022-01-09T06:00:57.410821Z",
          "iopub.status.idle": "2022-01-09T06:00:57.430002Z",
          "shell.execute_reply": "2022-01-09T06:00:57.429444Z",
          "shell.execute_reply.started": "2022-01-09T06:00:57.411155Z"
        },
        "id": "5-XrRzDWKE0w",
        "outputId": "b5a53e54-6cfc-4922-87d4-630308a16fd0"
      },
      "outputs": [
        {
          "name": "stdout",
          "output_type": "stream",
          "text": [
            "Series is stationary\n"
          ]
        }
      ],
      "source": [
        "def adf_test(df):\n",
        "    result = adfuller(df.values)\n",
        "    if result[1] > 0.05:\n",
        "        print(\"Series is not stationary\")\n",
        "    else:\n",
        "        print(\"Series is stationary\")\n",
        "\n",
        "adf_test(diff)"
      ]
    },
    {
      "cell_type": "code",
      "execution_count": null,
      "metadata": {
        "execution": {
          "iopub.execute_input": "2022-01-09T06:00:57.431552Z",
          "iopub.status.busy": "2022-01-09T06:00:57.431177Z",
          "iopub.status.idle": "2022-01-09T06:00:57.773923Z",
          "shell.execute_reply": "2022-01-09T06:00:57.773325Z",
          "shell.execute_reply.started": "2022-01-09T06:00:57.431512Z"
        },
        "id": "nk0euLRyKE0x",
        "outputId": "b3ee825f-c1c9-4d89-efb3-a2846319e3e4"
      },
      "outputs": [
        {
          "data": {
            "image/png": "[encoded data removed]",
            "text/plain": [
              "<Figure size 432x288 with 1 Axes>"
            ]
          },
          "execution_count": 333,
          "metadata": {},
          "output_type": "execute_result"
        },
        {
          "data": {
            "image/png": "[encoded data removed]",
            "text/plain": [
              "<Figure size 432x288 with 1 Axes>"
            ]
          },
          "metadata": {
            "needs_background": "light"
          },
          "output_type": "display_data"
        }
      ],
      "source": [
        "plot_pacf(diff.values)"
      ]
    },
    {
      "cell_type": "markdown",
      "metadata": {
        "id": "dtKTVRxlKE0y"
      },
      "source": [
        "Finding the order of Moving Average Term (q)<br>\n",
        "- q = 1 and 2 is significant, try conservative take of q = 1."
      ]
    },
    {
      "cell_type": "code",
      "execution_count": null,
      "metadata": {
        "execution": {
          "iopub.execute_input": "2022-01-09T06:00:57.775575Z",
          "iopub.status.busy": "2022-01-09T06:00:57.774879Z",
          "iopub.status.idle": "2022-01-09T06:00:58.110888Z",
          "shell.execute_reply": "2022-01-09T06:00:58.109720Z",
          "shell.execute_reply.started": "2022-01-09T06:00:57.775544Z"
        },
        "id": "Zh0VzLg4KE0z",
        "outputId": "17cfd0e8-df08-4e2d-b660-092514286abc"
      },
      "outputs": [
        {
          "data": {
            "image/png": "[encoded data removed]",
            "text/plain": [
              "<Figure size 432x288 with 1 Axes>"
            ]
          },
          "execution_count": 334,
          "metadata": {},
          "output_type": "execute_result"
        },
        {
          "data": {
            "image/png": "[encoded data removed]",
            "text/plain": [
              "<Figure size 432x288 with 1 Axes>"
            ]
          },
          "metadata": {
            "needs_background": "light"
          },
          "output_type": "display_data"
        }
      ],
      "source": [
        "plot_acf(diff.values)"
      ]
    },
    {
      "cell_type": "markdown",
      "metadata": {
        "id": "NkZZ_nfLKE00"
      },
      "source": [
        "### Construction du modèle\n",
        "L'IPC présentant une croissance exponentielle (la variance augmente), nous construisons le modèle sur le ln(IPC), c'est-à-dire en convertissant les valeurs brutes en valeurs logarithmiques.\n",
        "Comme nous l'avons découvert précédemment, les paramètres du modèle ARIMA seront fixés à 1,1,1."
      ]
    },
    {
      "cell_type": "code",
      "execution_count": null,
      "metadata": {
        "execution": {
          "iopub.execute_input": "2022-01-09T06:00:58.112989Z",
          "iopub.status.busy": "2022-01-09T06:00:58.112386Z",
          "iopub.status.idle": "2022-01-09T06:00:58.280612Z",
          "shell.execute_reply": "2022-01-09T06:00:58.279579Z",
          "shell.execute_reply.started": "2022-01-09T06:00:58.112941Z"
        },
        "id": "GVYXuwIEKE02",
        "outputId": "e5e4f605-a5ae-48d4-e3d7-d232b10e522a"
      },
      "outputs": [
        {
          "data": {
            "text/html": [
              "<table class=\"simpletable\">\n",
              "<caption>SARIMAX Results</caption>\n",
              "<tr>\n",
              "  <th>Dep. Variable:</th>         <td>ccpi</td>       <th>  No. Observations:  </th>    <td>322</td>   \n",
              "</tr>\n",
              "<tr>\n",
              "  <th>Model:</th>            <td>ARIMA(1, 1, 1)</td>  <th>  Log Likelihood     </th> <td>1780.484</td> \n",
              "</tr>\n",
              "<tr>\n",
              "  <th>Date:</th>            <td>Sun, 09 Jan 2022</td> <th>  AIC                </th> <td>-3554.968</td>\n",
              "</tr>\n",
              "<tr>\n",
              "  <th>Time:</th>                <td>06:00:58</td>     <th>  BIC                </th> <td>-3543.654</td>\n",
              "</tr>\n",
              "<tr>\n",
              "  <th>Sample:</th>             <td>01-01-1994</td>    <th>  HQIC               </th> <td>-3550.450</td>\n",
              "</tr>\n",
              "<tr>\n",
              "  <th></th>                   <td>- 10-01-2020</td>   <th>                     </th>     <td> </td>    \n",
              "</tr>\n",
              "<tr>\n",
              "  <th>Covariance Type:</th>        <td>opg</td>       <th>                     </th>     <td> </td>    \n",
              "</tr>\n",
              "</table>\n",
              "<table class=\"simpletable\">\n",
              "<tr>\n",
              "     <td></td>       <th>coef</th>     <th>std err</th>      <th>z</th>      <th>P>|z|</th>  <th>[0.025</th>    <th>0.975]</th>  \n",
              "</tr>\n",
              "<tr>\n",
              "  <th>ar.L1</th>  <td>    0.9682</td> <td>    0.016</td> <td>   59.833</td> <td> 0.000</td> <td>    0.937</td> <td>    1.000</td>\n",
              "</tr>\n",
              "<tr>\n",
              "  <th>ma.L1</th>  <td>   -0.5010</td> <td>    0.043</td> <td>  -11.606</td> <td> 0.000</td> <td>   -0.586</td> <td>   -0.416</td>\n",
              "</tr>\n",
              "<tr>\n",
              "  <th>sigma2</th> <td> 8.851e-07</td> <td> 4.25e-08</td> <td>   20.833</td> <td> 0.000</td> <td> 8.02e-07</td> <td> 9.68e-07</td>\n",
              "</tr>\n",
              "</table>\n",
              "<table class=\"simpletable\">\n",
              "<tr>\n",
              "  <th>Ljung-Box (L1) (Q):</th>     <td>3.44</td> <th>  Jarque-Bera (JB):  </th> <td>180.01</td>\n",
              "</tr>\n",
              "<tr>\n",
              "  <th>Prob(Q):</th>                <td>0.06</td> <th>  Prob(JB):          </th>  <td>0.00</td> \n",
              "</tr>\n",
              "<tr>\n",
              "  <th>Heteroskedasticity (H):</th> <td>0.96</td> <th>  Skew:              </th>  <td>0.27</td> \n",
              "</tr>\n",
              "<tr>\n",
              "  <th>Prob(H) (two-sided):</th>    <td>0.84</td> <th>  Kurtosis:          </th>  <td>6.63</td> \n",
              "</tr>\n",
              "</table><br/><br/>Warnings:<br/>[1] Covariance matrix calculated using the outer product of gradients (complex-step)."
            ],
            "text/plain": [
              "<class 'statsmodels.iolib.summary.Summary'>\n",
              "\"\"\"\n",
              "                               SARIMAX Results                                \n",
              "==============================================================================\n",
              "Dep. Variable:                   ccpi   No. Observations:                  322\n",
              "Model:                 ARIMA(1, 1, 1)   Log Likelihood                1780.484\n",
              "Date:                Sun, 09 Jan 2022   AIC                          -3554.968\n",
              "Time:                        06:00:58   BIC                          -3543.654\n",
              "Sample:                    01-01-1994   HQIC                         -3550.450\n",
              "                         - 10-01-2020                                         \n",
              "Covariance Type:                  opg                                         \n",
              "==============================================================================\n",
              "                 coef    std err          z      P>|z|      [0.025      0.975]\n",
              "------------------------------------------------------------------------------\n",
              "ar.L1          0.9682      0.016     59.833      0.000       0.937       1.000\n",
              "ma.L1         -0.5010      0.043    -11.606      0.000      -0.586      -0.416\n",
              "sigma2      8.851e-07   4.25e-08     20.833      0.000    8.02e-07    9.68e-07\n",
              "===================================================================================\n",
              "Ljung-Box (L1) (Q):                   3.44   Jarque-Bera (JB):               180.01\n",
              "Prob(Q):                              0.06   Prob(JB):                         0.00\n",
              "Heteroskedasticity (H):               0.96   Skew:                             0.27\n",
              "Prob(H) (two-sided):                  0.84   Kurtosis:                         6.63\n",
              "===================================================================================\n",
              "\n",
              "Warnings:\n",
              "[1] Covariance matrix calculated using the outer product of gradients (complex-step).\n",
              "\"\"\""
            ]
          },
          "execution_count": 335,
          "metadata": {},
          "output_type": "execute_result"
        }
      ],
      "source": [
        "arima_model = ARIMA(np.log(train['ccpi']), order = (1,1,1))\n",
        "\n",
        "arima_fit = arima_model.fit()\n",
        "arima_fit.summary()"
      ]
    },
    {
      "cell_type": "markdown",
      "metadata": {
        "id": "XIl0pwq-KE03"
      },
      "source": [
        "### Prévisions pour novembre 2020 - octobre 2021"
      ]
    },
    {
      "cell_type": "code",
      "execution_count": null,
      "metadata": {
        "execution": {
          "iopub.execute_input": "2022-01-09T06:00:58.283086Z",
          "iopub.status.busy": "2022-01-09T06:00:58.282140Z",
          "iopub.status.idle": "2022-01-09T06:00:58.564548Z",
          "shell.execute_reply": "2022-01-09T06:00:58.563720Z",
          "shell.execute_reply.started": "2022-01-09T06:00:58.283040Z"
        },
        "id": "STzqDXImKE04",
        "outputId": "7bb89365-68c5-4781-d991-712baadc252b"
      },
      "outputs": [
        {
          "data": {
            "text/plain": [
              "[<matplotlib.lines.Line2D at 0x7f6f11815c50>]"
            ]
          },
          "execution_count": 336,
          "metadata": {},
          "output_type": "execute_result"
        },
        {
          "name": "stdout",
          "output_type": "stream",
          "text": [
            "The forecasted U.S. Core Consumer Price Index (CPI) YoY is  1.39\n"
          ]
        },
        {
          "data": {
            "image/png": "[encoded data removed]",
            "text/plain": [
              "<Figure size 432x288 with 1 Axes>"
            ]
          },
          "metadata": {
            "needs_background": "light"
          },
          "output_type": "display_data"
        }
      ],
      "source": [
        "forecast = arima_fit.forecast(steps=12)\n",
        "forecast = np.exp(forecast)\n",
        "\n",
        "plt.plot(forecast, color = 'red')\n",
        "\n",
        "pct_chg = ((forecast[-1] - df_cpi.iloc[-12]['ccpi'])/df_cpi.iloc[-12]['ccpi']) * 100\n",
        "print('The forecasted U.S. Core Consumer Price Index (CPI) YoY is ' , round(pct_chg,2))"
      ]
    },
    {
      "cell_type": "markdown",
      "metadata": {
        "id": "2hCf9vCHKE05"
      },
      "source": [
        "### Prévisions pour le 20 novembreEvaluation du modèle ARIMA\n",
        "- avec RMSE et\n",
        "- Moyenne de y observé - y prédit\n",
        "\n",
        "Sur la base de l'erreur moyenne, le modèle ARIMA surestime la valeur de l'IPC de base de 0,25 en moyenne.20 - Octobre 2021"
      ]
    },
    {
      "cell_type": "code",
      "execution_count": null,
      "metadata": {
        "execution": {
          "iopub.execute_input": "2022-01-09T06:00:58.566095Z",
          "iopub.status.busy": "2022-01-09T06:00:58.565865Z",
          "iopub.status.idle": "2022-01-09T06:00:58.575341Z",
          "shell.execute_reply": "2022-01-09T06:00:58.573755Z",
          "shell.execute_reply.started": "2022-01-09T06:00:58.566066Z"
        },
        "id": "fBGzmOzOKE06",
        "outputId": "aed88627-be22-434b-a4f6-727f4c03b51f"
      },
      "outputs": [
        {
          "name": "stdout",
          "output_type": "stream",
          "text": [
            "MSE:  20.43574094104357\n",
            "Mean Model Error:  3.1464952666371317\n"
          ]
        }
      ],
      "source": [
        "mse = mean_squared_error(test['ccpi'].values, forecast[:12])\n",
        "print('MSE: ', mse)\n",
        "model_error = test['ccpi'] - forecast\n",
        "print('Mean Model Error: ', model_error.mean())"
      ]
    },
    {
      "cell_type": "markdown",
      "metadata": {
        "id": "AffiIhu9KE07"
      },
      "source": [
        "### 1-Step Forecast for November 2021"
      ]
    },
    {
      "cell_type": "code",
      "execution_count": null,
      "metadata": {
        "execution": {
          "iopub.execute_input": "2022-01-09T06:00:58.577133Z",
          "iopub.status.busy": "2022-01-09T06:00:58.576892Z",
          "iopub.status.idle": "2022-01-09T06:00:58.756775Z",
          "shell.execute_reply": "2022-01-09T06:00:58.755816Z",
          "shell.execute_reply.started": "2022-01-09T06:00:58.577104Z"
        },
        "id": "48kDlRvDKE07",
        "outputId": "72175f2b-eee9-4c43-8cb1-866fbaa9c726"
      },
      "outputs": [
        {
          "name": "stdout",
          "output_type": "stream",
          "text": [
            "The Core CPI value for the month November 2021 predicted by ARIMA model is 283.19\n"
          ]
        }
      ],
      "source": [
        "arima_model = ARIMA(np.log(test['ccpi']), order = (1,1,1),freq=test.index.inferred_freq)\n",
        "\n",
        "arima_fit = arima_model.fit()\n",
        "\n",
        "forecast = arima_fit.forecast(steps=1)\n",
        "forecast = np.exp(forecast)\n",
        "\n",
        "print('The Core CPI value for the month November 2021 predicted by ARIMA model is', round(forecast[0],2))"
      ]
    },
    {
      "cell_type": "markdown",
      "metadata": {
        "id": "tgPlispZKE08"
      },
      "source": [
        "Dans l'ensemble, nous pouvons constater que le modèle ARIMA a donné de mauvais résultats, car l'augmentation a été plus importante au cours des derniers mois de 2021. Nous pouvons améliorer le modèle en incluant d'autres caractéristiques et en utilisant des prévisions multivariées."
      ]
    }
  ],
  "metadata": {
    "kernelspec": {
      "display_name": "Python 3 (ipykernel)",
      "language": "python",
      "name": "python3"
    },
    "language_info": {
      "codemirror_mode": {
        "name": "ipython",
        "version": 3
      },
      "file_extension": ".py",
      "mimetype": "text/x-python",
      "name": "python",
      "nbconvert_exporter": "python",
      "pygments_lexer": "ipython3",
      "version": "3.9.7"
    },
    "colab": {
      "provenance": [],
      "include_colab_link": true
    }
  },
  "nbformat": 4,
  "nbformat_minor": 0
}